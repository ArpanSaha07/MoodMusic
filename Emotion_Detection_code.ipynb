{
  "cells": [
    {
      "cell_type": "code",
      "execution_count": null,
      "metadata": {
        "id": "VyO2BOEgWLY0"
      },
      "outputs": [],
      "source": [
        "# Import Libraries\n",
        "\n",
        "from nltk.corpus import stopwords\n",
        "import string\n",
        "from nltk.stem import PorterStemmer\n",
        "from nltk.stem import WordNetLemmatizer\n",
        "import nltk\n",
        "from sklearn.feature_extraction.text import TfidfVectorizer\n",
        "from sklearn.metrics import classification_report\n",
        "import random\n",
        "import re\n",
        "import pandas as pd\n",
        "from bs4 import BeautifulSoup\n",
        "\n",
        "import unicodedata\n",
        "from sklearn.model_selection import train_test_split\n",
        "from sklearn.feature_extraction.text import CountVectorizer\n",
        "from sklearn.ensemble import RandomForestClassifier"
      ]
    },
    {
      "cell_type": "code",
      "execution_count": null,
      "metadata": {
        "colab": {
          "base_uri": "https://localhost:8080/"
        },
        "id": "YuDr1ARaWWv0",
        "outputId": "16922db0-1932-4bc9-c844-08d12db723fa"
      },
      "outputs": [
        {
          "output_type": "stream",
          "name": "stdout",
          "text": [
            "Mounted at /content/drive\n"
          ]
        }
      ],
      "source": [
        "from google.colab import drive\n",
        "drive.mount('/content/drive')"
      ]
    },
    {
      "cell_type": "code",
      "execution_count": null,
      "metadata": {
        "colab": {
          "base_uri": "https://localhost:8080/"
        },
        "id": "oLwRXf3CWLY_",
        "outputId": "27b1ea2f-fb2f-4bc3-8751-a2ba4efa9e54"
      },
      "outputs": [
        {
          "output_type": "stream",
          "name": "stdout",
          "text": [
            "     Emotions                                               Text\n",
            "0         joy  On days when I feel close to my partner and ot...\n",
            "1        fear  Every time I imagine that someone I love or I ...\n",
            "2       anger  When I had been obviously unjustly treated and...\n",
            "3     sadness  When I think about the short time that we live...\n",
            "4     disgust  At a gathering I found myself involuntarily si...\n",
            "...       ...                                                ...\n",
            "7511    shame  Two years back someone invited me to be the tu...\n",
            "7512    shame  I had taken the responsibility to do something...\n",
            "7513     fear  I was at home and I heard a loud sound of spit...\n",
            "7514    guilt  I did not do the homework that the teacher had...\n",
            "7515     fear  I had shouted at my younger brother and he was...\n",
            "\n",
            "[7516 rows x 2 columns]\n"
          ]
        }
      ],
      "source": [
        "df = pd.read_csv('/content/drive/MyDrive/ISEAR.csv')\n",
        "df = df.drop('Unnamed: 2',axis=1)\n",
        "print(df)"
      ]
    },
    {
      "cell_type": "code",
      "execution_count": null,
      "metadata": {
        "colab": {
          "base_uri": "https://localhost:8080/"
        },
        "id": "dJO7c9hGWLZB",
        "outputId": "e06d2db1-4e74-47d2-c629-af83465a299b"
      },
      "outputs": [
        {
          "output_type": "stream",
          "name": "stderr",
          "text": [
            "[nltk_data] Downloading package stopwords to /root/nltk_data...\n",
            "[nltk_data]   Unzipping corpora/stopwords.zip.\n"
          ]
        }
      ],
      "source": [
        "from nltk.corpus import stopwords\n",
        "nltk.download('stopwords')\n",
        "\n",
        "stop_words = set(stopwords.words('english')) # stopwords\n",
        "REPLACE_BY_SPACE_RE = re.compile('[/(){}\\[\\]\\|@,;]')\n",
        "BAD_SYMBOLS_RE = re.compile('[^0-9a-z #+_]')"
      ]
    },
    {
      "cell_type": "code",
      "execution_count": null,
      "metadata": {
        "id": "0G1Y2HBzWLZD"
      },
      "outputs": [],
      "source": [
        "# Clean the data\n",
        "\n",
        "def clean_text(line):\n",
        "    line = BeautifulSoup(line, \"lxml\").text # HTML decoding\n",
        "\n",
        "    line= re.sub(pattern='[^a-zA-Z]', repl=' ',string=str(line))\n",
        "    line = REPLACE_BY_SPACE_RE.sub(' ', line) # replace REPLACE_BY_SPACE_RE symbols by space in text\n",
        "    line = BAD_SYMBOLS_RE.sub('', line) # delete symbols which are in BAD_SYMBOLS_RE from text\n",
        "    line = line.lower()\n",
        "    token_words = line.split()\n",
        "    token_words = [word for word in token_words if not word in stop_words]\n",
        "   # porter = PorterStemmer()\n",
        "    lemmatizer = WordNetLemmatizer()\n",
        "    lem_words = [lemmatizer.lemmatize(i) for i in token_words]\n",
        "    #stem_words = [porter.stem(i) for i in lem_words]\n",
        "    final_words = ' '.join(lem_words)\n",
        "    return final_words\n",
        "\n",
        "clean = lambda x: clean_text(x)"
      ]
    },
    {
      "cell_type": "code",
      "execution_count": null,
      "metadata": {
        "colab": {
          "base_uri": "https://localhost:8080/",
          "height": 266
        },
        "id": "miyyPLGQWLZF",
        "outputId": "8ca37ec2-135d-400c-bd80-776526c952b8"
      },
      "outputs": [
        {
          "output_type": "stream",
          "name": "stderr",
          "text": [
            "[nltk_data] Downloading package wordnet to /root/nltk_data...\n",
            "<ipython-input-11-2a5fa31a172d>:4: MarkupResemblesLocatorWarning: The input looks more like a filename than markup. You may want to open this file and pass the filehandle into Beautiful Soup.\n",
            "  line = BeautifulSoup(line, \"lxml\").text # HTML decoding\n"
          ]
        },
        {
          "output_type": "execute_result",
          "data": {
            "text/plain": [
              "  Emotions                                               Text\n",
              "0      joy  n day feel close partner friend hen feel peace...\n",
              "1     fear  time imagine someone love could contact seriou...\n",
              "2    anger  hen obviously unjustly treated possibility elu...\n",
              "3  sadness  hen think short time live relate period life t...\n",
              "4  disgust  gathering found involuntarily sitting next two..."
            ],
            "text/html": [
              "\n",
              "  <div id=\"df-e1f5fe28-e14f-4945-b1f1-e6a06857016a\">\n",
              "    <div class=\"colab-df-container\">\n",
              "      <div>\n",
              "<style scoped>\n",
              "    .dataframe tbody tr th:only-of-type {\n",
              "        vertical-align: middle;\n",
              "    }\n",
              "\n",
              "    .dataframe tbody tr th {\n",
              "        vertical-align: top;\n",
              "    }\n",
              "\n",
              "    .dataframe thead th {\n",
              "        text-align: right;\n",
              "    }\n",
              "</style>\n",
              "<table border=\"1\" class=\"dataframe\">\n",
              "  <thead>\n",
              "    <tr style=\"text-align: right;\">\n",
              "      <th></th>\n",
              "      <th>Emotions</th>\n",
              "      <th>Text</th>\n",
              "    </tr>\n",
              "  </thead>\n",
              "  <tbody>\n",
              "    <tr>\n",
              "      <th>0</th>\n",
              "      <td>joy</td>\n",
              "      <td>n day feel close partner friend hen feel peace...</td>\n",
              "    </tr>\n",
              "    <tr>\n",
              "      <th>1</th>\n",
              "      <td>fear</td>\n",
              "      <td>time imagine someone love could contact seriou...</td>\n",
              "    </tr>\n",
              "    <tr>\n",
              "      <th>2</th>\n",
              "      <td>anger</td>\n",
              "      <td>hen obviously unjustly treated possibility elu...</td>\n",
              "    </tr>\n",
              "    <tr>\n",
              "      <th>3</th>\n",
              "      <td>sadness</td>\n",
              "      <td>hen think short time live relate period life t...</td>\n",
              "    </tr>\n",
              "    <tr>\n",
              "      <th>4</th>\n",
              "      <td>disgust</td>\n",
              "      <td>gathering found involuntarily sitting next two...</td>\n",
              "    </tr>\n",
              "  </tbody>\n",
              "</table>\n",
              "</div>\n",
              "      <button class=\"colab-df-convert\" onclick=\"convertToInteractive('df-e1f5fe28-e14f-4945-b1f1-e6a06857016a')\"\n",
              "              title=\"Convert this dataframe to an interactive table.\"\n",
              "              style=\"display:none;\">\n",
              "        \n",
              "  <svg xmlns=\"http://www.w3.org/2000/svg\" height=\"24px\"viewBox=\"0 0 24 24\"\n",
              "       width=\"24px\">\n",
              "    <path d=\"M0 0h24v24H0V0z\" fill=\"none\"/>\n",
              "    <path d=\"M18.56 5.44l.94 2.06.94-2.06 2.06-.94-2.06-.94-.94-2.06-.94 2.06-2.06.94zm-11 1L8.5 8.5l.94-2.06 2.06-.94-2.06-.94L8.5 2.5l-.94 2.06-2.06.94zm10 10l.94 2.06.94-2.06 2.06-.94-2.06-.94-.94-2.06-.94 2.06-2.06.94z\"/><path d=\"M17.41 7.96l-1.37-1.37c-.4-.4-.92-.59-1.43-.59-.52 0-1.04.2-1.43.59L10.3 9.45l-7.72 7.72c-.78.78-.78 2.05 0 2.83L4 21.41c.39.39.9.59 1.41.59.51 0 1.02-.2 1.41-.59l7.78-7.78 2.81-2.81c.8-.78.8-2.07 0-2.86zM5.41 20L4 18.59l7.72-7.72 1.47 1.35L5.41 20z\"/>\n",
              "  </svg>\n",
              "      </button>\n",
              "      \n",
              "  <style>\n",
              "    .colab-df-container {\n",
              "      display:flex;\n",
              "      flex-wrap:wrap;\n",
              "      gap: 12px;\n",
              "    }\n",
              "\n",
              "    .colab-df-convert {\n",
              "      background-color: #E8F0FE;\n",
              "      border: none;\n",
              "      border-radius: 50%;\n",
              "      cursor: pointer;\n",
              "      display: none;\n",
              "      fill: #1967D2;\n",
              "      height: 32px;\n",
              "      padding: 0 0 0 0;\n",
              "      width: 32px;\n",
              "    }\n",
              "\n",
              "    .colab-df-convert:hover {\n",
              "      background-color: #E2EBFA;\n",
              "      box-shadow: 0px 1px 2px rgba(60, 64, 67, 0.3), 0px 1px 3px 1px rgba(60, 64, 67, 0.15);\n",
              "      fill: #174EA6;\n",
              "    }\n",
              "\n",
              "    [theme=dark] .colab-df-convert {\n",
              "      background-color: #3B4455;\n",
              "      fill: #D2E3FC;\n",
              "    }\n",
              "\n",
              "    [theme=dark] .colab-df-convert:hover {\n",
              "      background-color: #434B5C;\n",
              "      box-shadow: 0px 1px 3px 1px rgba(0, 0, 0, 0.15);\n",
              "      filter: drop-shadow(0px 1px 2px rgba(0, 0, 0, 0.3));\n",
              "      fill: #FFFFFF;\n",
              "    }\n",
              "  </style>\n",
              "\n",
              "      <script>\n",
              "        const buttonEl =\n",
              "          document.querySelector('#df-e1f5fe28-e14f-4945-b1f1-e6a06857016a button.colab-df-convert');\n",
              "        buttonEl.style.display =\n",
              "          google.colab.kernel.accessAllowed ? 'block' : 'none';\n",
              "\n",
              "        async function convertToInteractive(key) {\n",
              "          const element = document.querySelector('#df-e1f5fe28-e14f-4945-b1f1-e6a06857016a');\n",
              "          const dataTable =\n",
              "            await google.colab.kernel.invokeFunction('convertToInteractive',\n",
              "                                                     [key], {});\n",
              "          if (!dataTable) return;\n",
              "\n",
              "          const docLinkHtml = 'Like what you see? Visit the ' +\n",
              "            '<a target=\"_blank\" href=https://colab.research.google.com/notebooks/data_table.ipynb>data table notebook</a>'\n",
              "            + ' to learn more about interactive tables.';\n",
              "          element.innerHTML = '';\n",
              "          dataTable['output_type'] = 'display_data';\n",
              "          await google.colab.output.renderOutput(dataTable, element);\n",
              "          const docLink = document.createElement('div');\n",
              "          docLink.innerHTML = docLinkHtml;\n",
              "          element.appendChild(docLink);\n",
              "        }\n",
              "      </script>\n",
              "    </div>\n",
              "  </div>\n",
              "  "
            ]
          },
          "metadata": {},
          "execution_count": 13
        }
      ],
      "source": [
        "nltk.download('wordnet')\n",
        "df['Text'] = pd.DataFrame(df.Text.apply(clean)) # apply a clean lambda function on text column\n",
        "df.head()"
      ]
    },
    {
      "cell_type": "code",
      "execution_count": null,
      "metadata": {
        "id": "_qi6SUi4WLZG"
      },
      "outputs": [],
      "source": [
        "X = df['Text']\n",
        "y = df['Emotions']"
      ]
    },
    {
      "cell_type": "code",
      "execution_count": null,
      "metadata": {
        "id": "1MlRPuBSWLZI"
      },
      "outputs": [],
      "source": [
        "word_vectorizer = CountVectorizer(ngram_range=(1, 2),min_df=2,max_df=0.5)\n",
        "# fit and transform on it the training features\n",
        "word_vectorizer.fit(X)\n",
        "vectors = word_vectorizer.transform(X)\n",
        "X_vec = vectors.toarray()"
      ]
    },
    {
      "cell_type": "code",
      "execution_count": null,
      "metadata": {
        "id": "qEz5lYz5WLZK"
      },
      "outputs": [],
      "source": [
        "word_vectorizer.vocabulary_# vocabulary of words"
      ]
    },
    {
      "cell_type": "code",
      "execution_count": null,
      "metadata": {
        "id": "SSce8CpwWLZM",
        "colab": {
          "base_uri": "https://localhost:8080/"
        },
        "outputId": "f2d4d538-af8e-4d65-9306-07fb747c0bc5"
      },
      "outputs": [
        {
          "output_type": "stream",
          "name": "stdout",
          "text": [
            "Each of the 7516 text is represented by 10594 features \n"
          ]
        }
      ],
      "source": [
        "print(\"Each of the %d text is represented by %d features \" %(vectors.shape))"
      ]
    },
    {
      "cell_type": "code",
      "execution_count": null,
      "metadata": {
        "id": "Jd6BSUsYWLZO"
      },
      "outputs": [],
      "source": [
        "# Label Encoding\n",
        "from sklearn import preprocessing\n",
        "label_encoder = preprocessing.LabelEncoder()\n",
        "labels= label_encoder.fit_transform(y)\n"
      ]
    },
    {
      "cell_type": "code",
      "source": [
        "print(X_vec)\n",
        "y_vec = y.to_numpy()\n",
        "Y_vec = [[word] for word in y_vec]\n",
        "print(Y_vec)"
      ],
      "metadata": {
        "colab": {
          "base_uri": "https://localhost:8080/"
        },
        "id": "oFn1GLx-WvZO",
        "outputId": "9d04e9ce-1907-4fc7-e4b6-601c4bd5adc8"
      },
      "execution_count": null,
      "outputs": [
        {
          "output_type": "stream",
          "name": "stdout",
          "text": [
            "[[0 0 0 ... 0 0 0]\n",
            " [0 0 0 ... 0 0 0]\n",
            " [0 0 0 ... 0 0 0]\n",
            " ...\n",
            " [0 0 0 ... 0 0 0]\n",
            " [0 0 0 ... 0 0 0]\n",
            " [0 0 0 ... 0 0 0]]\n",
            "[['joy'], ['fear'], ['anger'], ['sadness'], ['disgust'], ['shame'], ['guilt'], ['joy'], ['fear'], ['anger'], ['sadness'], ['disgust'], ['shame'], ['guilt'], ['joy'], ['fear'], ['anger'], ['sadness'], ['disgust'], ['shame'], ['guilt'], ['joy'], ['fear'], ['guilt'], ['joy'], ['fear'], ['anger'], ['sadness'], ['disgust'], ['shame'], ['guilt'], ['joy'], ['fear'], ['anger'], ['sadness'], ['disgust'], ['shame'], ['guilt'], ['joy'], ['fear'], ['anger'], ['sadness'], ['disgust'], ['shame'], ['guilt'], ['joy'], ['fear'], ['anger'], ['sadness'], ['disgust'], ['shame'], ['guilt'], ['joy'], ['fear'], ['sadness'], ['disgust'], ['shame'], ['guilt'], ['joy'], ['fear'], ['anger'], ['sadness'], ['disgust'], ['shame'], ['guilt'], ['joy'], ['fear'], ['anger'], ['sadness'], ['disgust'], ['shame'], ['guilt'], ['joy'], ['fear'], ['anger'], ['sadness'], ['disgust'], ['shame'], ['guilt'], ['joy'], ['fear'], ['anger'], ['sadness'], ['disgust'], ['shame'], ['guilt'], ['joy'], ['fear'], ['anger'], ['sadness'], ['disgust'], ['shame'], ['guilt'], ['joy'], ['fear'], ['anger'], ['sadness'], ['disgust'], ['shame'], ['guilt'], ['joy'], ['fear'], ['anger'], ['sadness'], ['disgust'], ['shame'], ['guilt'], ['joy'], ['fear'], ['anger'], ['sadness'], ['shame'], ['guilt'], ['joy'], ['fear'], ['anger'], ['sadness'], ['disgust'], ['shame'], ['guilt'], ['joy'], ['fear'], ['anger'], ['sadness'], ['disgust'], ['shame'], ['guilt'], ['joy'], ['fear'], ['anger'], ['sadness'], ['disgust'], ['shame'], ['guilt'], ['disgust'], ['shame'], ['guilt'], ['joy'], ['fear'], ['anger'], ['sadness'], ['disgust'], ['shame'], ['guilt'], ['joy'], ['fear'], ['anger'], ['sadness'], ['disgust'], ['shame'], ['guilt'], ['joy'], ['fear'], ['anger'], ['sadness'], ['disgust'], ['joy'], ['fear'], ['anger'], ['sadness'], ['disgust'], ['shame'], ['guilt'], ['joy'], ['fear'], ['anger'], ['sadness'], ['disgust'], ['shame'], ['guilt'], ['joy'], ['fear'], ['anger'], ['sadness'], ['disgust'], ['shame'], ['guilt'], ['joy'], ['anger'], ['sadness'], ['disgust'], ['shame'], ['guilt'], ['joy'], ['fear'], ['anger'], ['sadness'], ['disgust'], ['shame'], ['guilt'], ['joy'], ['fear'], ['anger'], ['joy'], ['fear'], ['anger'], ['sadness'], ['shame'], ['guilt'], ['joy'], ['fear'], ['anger'], ['sadness'], ['disgust'], ['shame'], ['guilt'], ['joy'], ['fear'], ['anger'], ['sadness'], ['joy'], ['fear'], ['anger'], ['sadness'], ['guilt'], ['joy'], ['fear'], ['anger'], ['joy'], ['fear'], ['anger'], ['sadness'], ['guilt'], ['sadness'], ['joy'], ['fear'], ['anger'], ['sadness'], ['disgust'], ['shame'], ['guilt'], ['joy'], ['fear'], ['anger'], ['sadness'], ['disgust'], ['shame'], ['guilt'], ['joy'], ['fear'], ['anger'], ['sadness'], ['disgust'], ['shame'], ['guilt'], ['joy'], ['fear'], ['anger'], ['sadness'], ['disgust'], ['shame'], ['guilt'], ['joy'], ['fear'], ['anger'], ['sadness'], ['disgust'], ['shame'], ['guilt'], ['joy'], ['fear'], ['anger'], ['sadness'], ['disgust'], ['shame'], ['guilt'], ['joy'], ['fear'], ['anger'], ['sadness'], ['disgust'], ['shame'], ['guilt'], ['joy'], ['fear'], ['anger'], ['sadness'], ['disgust'], ['shame'], ['guilt'], ['joy'], ['fear'], ['anger'], ['sadness'], ['disgust'], ['guilt'], ['joy'], ['fear'], ['anger'], ['sadness'], ['disgust'], ['shame'], ['guilt'], ['joy'], ['fear'], ['anger'], ['sadness'], ['disgust'], ['shame'], ['guilt'], ['joy'], ['fear'], ['anger'], ['sadness'], ['disgust'], ['shame'], ['guilt'], ['joy'], ['fear'], ['anger'], ['sadness'], ['disgust'], ['shame'], ['guilt'], ['joy'], ['fear'], ['anger'], ['sadness'], ['disgust'], ['shame'], ['guilt'], ['joy'], ['fear'], ['anger'], ['sadness'], ['disgust'], ['shame'], ['guilt'], ['joy'], ['fear'], ['anger'], ['sadness'], ['disgust'], ['shame'], ['guilt'], ['joy'], ['fear'], ['anger'], ['sadness'], ['disgust'], ['shame'], ['guilt'], ['joy'], ['fear'], ['anger'], ['sadness'], ['disgust'], ['shame'], ['guilt'], ['joy'], ['fear'], ['anger'], ['sadness'], ['disgust'], ['shame'], ['guilt'], ['joy'], ['fear'], ['anger'], ['sadness'], ['disgust'], ['shame'], ['guilt'], ['joy'], ['fear'], ['anger'], ['sadness'], ['disgust'], ['shame'], ['guilt'], ['joy'], ['fear'], ['anger'], ['sadness'], ['disgust'], ['shame'], ['guilt'], ['joy'], ['fear'], ['anger'], ['sadness'], ['disgust'], ['shame'], ['guilt'], ['joy'], ['fear'], ['anger'], ['sadness'], ['disgust'], ['shame'], ['guilt'], ['joy'], ['fear'], ['anger'], ['sadness'], ['disgust'], ['shame'], ['guilt'], ['joy'], ['fear'], ['anger'], ['sadness'], ['disgust'], ['shame'], ['guilt'], ['joy'], ['fear'], ['anger'], ['sadness'], ['disgust'], ['shame'], ['guilt'], ['joy'], ['fear'], ['anger'], ['sadness'], ['disgust'], ['shame'], ['guilt'], ['joy'], ['fear'], ['anger'], ['sadness'], ['disgust'], ['shame'], ['guilt'], ['joy'], ['fear'], ['anger'], ['sadness'], ['disgust'], ['shame'], ['guilt'], ['joy'], ['fear'], ['anger'], ['sadness'], ['disgust'], ['shame'], ['guilt'], ['joy'], ['fear'], ['anger'], ['sadness'], ['disgust'], ['shame'], ['guilt'], ['joy'], ['fear'], ['anger'], ['sadness'], ['disgust'], ['shame'], ['guilt'], ['joy'], ['fear'], ['anger'], ['sadness'], ['disgust'], ['shame'], ['guilt'], ['joy'], ['fear'], ['anger'], ['sadness'], ['disgust'], ['shame'], ['guilt'], ['joy'], ['fear'], ['joy'], ['fear'], ['anger'], ['joy'], ['fear'], ['anger'], ['sadness'], ['guilt'], ['joy'], ['joy'], ['fear'], ['anger'], ['sadness'], ['disgust'], ['shame'], ['guilt'], ['joy'], ['fear'], ['anger'], ['sadness'], ['disgust'], ['shame'], ['guilt'], ['joy'], ['fear'], ['anger'], ['sadness'], ['disgust'], ['shame'], ['guilt'], ['fear'], ['fear'], ['anger'], ['sadness'], ['disgust'], ['shame'], ['guilt'], ['joy'], ['fear'], ['anger'], ['sadness'], ['disgust'], ['shame'], ['guilt'], ['joy'], ['fear'], ['anger'], ['sadness'], ['disgust'], ['shame'], ['guilt'], ['joy'], ['fear'], ['guilt'], ['joy'], ['fear'], ['anger'], ['sadness'], ['disgust'], ['shame'], ['guilt'], ['joy'], ['fear'], ['anger'], ['sadness'], ['disgust'], ['shame'], ['guilt'], ['joy'], ['fear'], ['anger'], ['sadness'], ['disgust'], ['shame'], ['guilt'], ['fear'], ['anger'], ['sadness'], ['disgust'], ['shame'], ['guilt'], ['joy'], ['fear'], ['anger'], ['sadness'], ['disgust'], ['fear'], ['anger'], ['sadness'], ['disgust'], ['guilt'], ['joy'], ['fear'], ['anger'], ['sadness'], ['joy'], ['fear'], ['anger'], ['disgust'], ['guilt'], ['joy'], ['fear'], ['anger'], ['sadness'], ['disgust'], ['guilt'], ['joy'], ['fear'], ['anger'], ['sadness'], ['disgust'], ['shame'], ['joy'], ['fear'], ['disgust'], ['guilt'], ['joy'], ['fear'], ['anger'], ['disgust'], ['guilt'], ['joy'], ['fear'], ['anger'], ['sadness'], ['disgust'], ['guilt'], ['joy'], ['fear'], ['anger'], ['sadness'], ['disgust'], ['shame'], ['guilt'], ['joy'], ['fear'], ['sadness'], ['disgust'], ['joy'], ['fear'], ['anger'], ['sadness'], ['disgust'], ['guilt'], ['joy'], ['fear'], ['anger'], ['sadness'], ['joy'], ['fear'], ['anger'], ['sadness'], ['disgust'], ['shame'], ['guilt'], ['joy'], ['fear'], ['anger'], ['sadness'], ['shame'], ['guilt'], ['joy'], ['fear'], ['anger'], ['sadness'], ['disgust'], ['shame'], ['guilt'], ['joy'], ['fear'], ['anger'], ['sadness'], ['disgust'], ['shame'], ['joy'], ['fear'], ['anger'], ['sadness'], ['disgust'], ['shame'], ['guilt'], ['joy'], ['fear'], ['anger'], ['sadness'], ['disgust'], ['shame'], ['guilt'], ['joy'], ['fear'], ['anger'], ['sadness'], ['disgust'], ['shame'], ['guilt'], ['joy'], ['fear'], ['anger'], ['sadness'], ['disgust'], ['shame'], ['guilt'], ['joy'], ['fear'], ['anger'], ['sadness'], ['shame'], ['guilt'], ['joy'], ['fear'], ['anger'], ['sadness'], ['disgust'], ['shame'], ['guilt'], ['joy'], ['fear'], ['anger'], ['sadness'], ['disgust'], ['shame'], ['guilt'], ['joy'], ['fear'], ['anger'], ['sadness'], ['disgust'], ['shame'], ['guilt'], ['joy'], ['fear'], ['anger'], ['sadness'], ['disgust'], ['shame'], ['guilt'], ['joy'], ['fear'], ['anger'], ['sadness'], ['disgust'], ['shame'], ['guilt'], ['joy'], ['fear'], ['anger'], ['sadness'], ['disgust'], ['shame'], ['guilt'], ['joy'], ['fear'], ['anger'], ['sadness'], ['disgust'], ['shame'], ['guilt'], ['joy'], ['anger'], ['sadness'], ['guilt'], ['joy'], ['fear'], ['anger'], ['sadness'], ['disgust'], ['shame'], ['guilt'], ['joy'], ['fear'], ['anger'], ['sadness'], ['disgust'], ['shame'], ['guilt'], ['joy'], ['fear'], ['anger'], ['sadness'], ['disgust'], ['shame'], ['guilt'], ['joy'], ['fear'], ['anger'], ['sadness'], ['disgust'], ['shame'], ['guilt'], ['joy'], ['fear'], ['anger'], ['sadness'], ['disgust'], ['shame'], ['guilt'], ['joy'], ['fear'], ['anger'], ['sadness'], ['disgust'], ['shame'], ['guilt'], ['joy'], ['fear'], ['anger'], ['sadness'], ['disgust'], ['shame'], ['guilt'], ['joy'], ['fear'], ['anger'], ['sadness'], ['disgust'], ['shame'], ['guilt'], ['joy'], ['fear'], ['anger'], ['sadness'], ['disgust'], ['shame'], ['guilt'], ['joy'], ['fear'], ['anger'], ['sadness'], ['disgust'], ['shame'], ['guilt'], ['joy'], ['fear'], ['anger'], ['sadness'], ['disgust'], ['shame'], ['guilt'], ['joy'], ['fear'], ['anger'], ['sadness'], ['disgust'], ['shame'], ['guilt'], ['joy'], ['fear'], ['anger'], ['sadness'], ['disgust'], ['shame'], ['guilt'], ['joy'], ['fear'], ['anger'], ['sadness'], ['disgust'], ['shame'], ['guilt'], ['joy'], ['fear'], ['anger'], ['sadness'], ['disgust'], ['shame'], ['guilt'], ['joy'], ['fear'], ['anger'], ['sadness'], ['disgust'], ['shame'], ['guilt'], ['joy'], ['fear'], ['anger'], ['sadness'], ['disgust'], ['shame'], ['guilt'], ['joy'], ['fear'], ['anger'], ['sadness'], ['disgust'], ['shame'], ['guilt'], ['joy'], ['fear'], ['anger'], ['sadness'], ['disgust'], ['shame'], ['guilt'], ['joy'], ['fear'], ['anger'], ['sadness'], ['disgust'], ['shame'], ['guilt'], ['joy'], ['fear'], ['anger'], ['sadness'], ['disgust'], ['shame'], ['guilt'], ['joy'], ['fear'], ['anger'], ['sadness'], ['disgust'], ['shame'], ['guilt'], ['joy'], ['fear'], ['anger'], ['sadness'], ['disgust'], ['shame'], ['guilt'], ['joy'], ['fear'], ['anger'], ['sadness'], ['disgust'], ['joy'], ['fear'], ['anger'], ['sadness'], ['disgust'], ['shame'], ['guilt'], ['joy'], ['fear'], ['anger'], ['sadness'], ['disgust'], ['shame'], ['guilt'], ['joy'], ['fear'], ['anger'], ['sadness'], ['disgust'], ['shame'], ['guilt'], ['joy'], ['fear'], ['anger'], ['sadness'], ['disgust'], ['shame'], ['guilt'], ['joy'], ['fear'], ['anger'], ['sadness'], ['disgust'], ['shame'], ['guilt'], ['joy'], ['fear'], ['anger'], ['sadness'], ['disgust'], ['shame'], ['guilt'], ['joy'], ['fear'], ['anger'], ['sadness'], ['disgust'], ['shame'], ['guilt'], ['fear'], ['anger'], ['sadness'], ['disgust'], ['shame'], ['guilt'], ['joy'], ['fear'], ['anger'], ['sadness'], ['disgust'], ['shame'], ['guilt'], ['joy'], ['fear'], ['anger'], ['sadness'], ['disgust'], ['shame'], ['guilt'], ['joy'], ['fear'], ['anger'], ['sadness'], ['disgust'], ['shame'], ['guilt'], ['joy'], ['fear'], ['anger'], ['sadness'], ['disgust'], ['shame'], ['guilt'], ['joy'], ['fear'], ['anger'], ['sadness'], ['disgust'], ['shame'], ['guilt'], ['joy'], ['fear'], ['anger'], ['sadness'], ['disgust'], ['shame'], ['guilt'], ['joy'], ['fear'], ['anger'], ['sadness'], ['disgust'], ['shame'], ['guilt'], ['joy'], ['fear'], ['anger'], ['sadness'], ['disgust'], ['shame'], ['guilt'], ['joy'], ['fear'], ['anger'], ['sadness'], ['disgust'], ['shame'], ['guilt'], ['joy'], ['fear'], ['anger'], ['sadness'], ['disgust'], ['shame'], ['guilt'], ['joy'], ['fear'], ['anger'], ['sadness'], ['disgust'], ['shame'], ['guilt'], ['joy'], ['fear'], ['anger'], ['sadness'], ['disgust'], ['shame'], ['guilt'], ['joy'], ['fear'], ['anger'], ['sadness'], ['disgust'], ['shame'], ['guilt'], ['joy'], ['fear'], ['anger'], ['sadness'], ['disgust'], ['shame'], ['guilt'], ['joy'], ['fear'], ['anger'], ['sadness'], ['disgust'], ['shame'], ['guilt'], ['joy'], ['fear'], ['anger'], ['sadness'], ['disgust'], ['shame'], ['guilt'], ['joy'], ['fear'], ['anger'], ['sadness'], ['disgust'], ['shame'], ['guilt'], ['joy'], ['fear'], ['anger'], ['sadness'], ['disgust'], ['shame'], ['guilt'], ['joy'], ['fear'], ['anger'], ['sadness'], ['disgust'], ['shame'], ['guilt'], ['joy'], ['fear'], ['anger'], ['sadness'], ['disgust'], ['shame'], ['guilt'], ['joy'], ['fear'], ['anger'], ['sadness'], ['disgust'], ['shame'], ['guilt'], ['joy'], ['fear'], ['anger'], ['sadness'], ['disgust'], ['shame'], ['guilt'], ['joy'], ['fear'], ['anger'], ['sadness'], ['disgust'], ['shame'], ['guilt'], ['joy'], ['fear'], ['anger'], ['sadness'], ['disgust'], ['shame'], ['guilt'], ['joy'], ['fear'], ['anger'], ['sadness'], ['disgust'], ['shame'], ['guilt'], ['joy'], ['fear'], ['anger'], ['sadness'], ['disgust'], ['shame'], ['guilt'], ['joy'], ['fear'], ['anger'], ['sadness'], ['disgust'], ['shame'], ['guilt'], ['joy'], ['fear'], ['anger'], ['sadness'], ['disgust'], ['shame'], ['guilt'], ['joy'], ['fear'], ['anger'], ['sadness'], ['disgust'], ['shame'], ['guilt'], ['joy'], ['fear'], ['anger'], ['sadness'], ['disgust'], ['shame'], ['guilt'], ['joy'], ['fear'], ['anger'], ['sadness'], ['disgust'], ['shame'], ['guilt'], ['joy'], ['fear'], ['anger'], ['sadness'], ['disgust'], ['shame'], ['guilt'], ['joy'], ['fear'], ['anger'], ['sadness'], ['disgust'], ['shame'], ['guilt'], ['joy'], ['fear'], ['anger'], ['sadness'], ['disgust'], ['shame'], ['guilt'], ['joy'], ['fear'], ['anger'], ['sadness'], ['disgust'], ['shame'], ['guilt'], ['joy'], ['fear'], ['guilt'], ['joy'], ['fear'], ['anger'], ['sadness'], ['disgust'], ['shame'], ['guilt'], ['joy'], ['fear'], ['anger'], ['sadness'], ['disgust'], ['shame'], ['joy'], ['fear'], ['anger'], ['sadness'], ['disgust'], ['shame'], ['guilt'], ['joy'], ['fear'], ['anger'], ['sadness'], ['disgust'], ['shame'], ['guilt'], ['joy'], ['fear'], ['anger'], ['sadness'], ['disgust'], ['shame'], ['guilt'], ['joy'], ['fear'], ['anger'], ['sadness'], ['disgust'], ['shame'], ['guilt'], ['joy'], ['fear'], ['anger'], ['sadness'], ['disgust'], ['shame'], ['guilt'], ['joy'], ['fear'], ['anger'], ['sadness'], ['disgust'], ['shame'], ['guilt'], ['joy'], ['fear'], ['anger'], ['sadness'], ['disgust'], ['shame'], ['guilt'], ['joy'], ['fear'], ['anger'], ['sadness'], ['disgust'], ['shame'], ['guilt'], ['joy'], ['fear'], ['anger'], ['sadness'], ['disgust'], ['shame'], ['guilt'], ['anger'], ['sadness'], ['disgust'], ['shame'], ['guilt'], ['joy'], ['fear'], ['anger'], ['sadness'], ['disgust'], ['shame'], ['guilt'], ['joy'], ['fear'], ['anger'], ['sadness'], ['disgust'], ['shame'], ['guilt'], ['joy'], ['fear'], ['anger'], ['sadness'], ['disgust'], ['shame'], ['guilt'], ['joy'], ['fear'], ['anger'], ['sadness'], ['disgust'], ['shame'], ['guilt'], ['anger'], ['sadness'], ['disgust'], ['shame'], ['guilt'], ['joy'], ['fear'], ['anger'], ['sadness'], ['disgust'], ['shame'], ['guilt'], ['joy'], ['fear'], ['anger'], ['sadness'], ['disgust'], ['shame'], ['guilt'], ['joy'], ['fear'], ['anger'], ['sadness'], ['disgust'], ['shame'], ['guilt'], ['joy'], ['fear'], ['anger'], ['sadness'], ['disgust'], ['shame'], ['guilt'], ['joy'], ['fear'], ['anger'], ['sadness'], ['disgust'], ['shame'], ['guilt'], ['joy'], ['fear'], ['anger'], ['sadness'], ['disgust'], ['shame'], ['guilt'], ['joy'], ['fear'], ['anger'], ['sadness'], ['disgust'], ['shame'], ['guilt'], ['joy'], ['fear'], ['anger'], ['sadness'], ['disgust'], ['shame'], ['guilt'], ['joy'], ['fear'], ['anger'], ['sadness'], ['disgust'], ['shame'], ['guilt'], ['joy'], ['fear'], ['anger'], ['sadness'], ['disgust'], ['shame'], ['guilt'], ['joy'], ['fear'], ['anger'], ['sadness'], ['disgust'], ['shame'], ['guilt'], ['joy'], ['fear'], ['anger'], ['sadness'], ['disgust'], ['shame'], ['guilt'], ['joy'], ['fear'], ['anger'], ['sadness'], ['disgust'], ['shame'], ['guilt'], ['joy'], ['fear'], ['anger'], ['sadness'], ['disgust'], ['shame'], ['guilt'], ['joy'], ['fear'], ['anger'], ['sadness'], ['disgust'], ['shame'], ['guilt'], ['joy'], ['fear'], ['anger'], ['sadness'], ['disgust'], ['shame'], ['guilt'], ['joy'], ['fear'], ['anger'], ['sadness'], ['disgust'], ['shame'], ['guilt'], ['joy'], ['fear'], ['anger'], ['sadness'], ['disgust'], ['shame'], ['guilt'], ['joy'], ['fear'], ['anger'], ['sadness'], ['disgust'], ['shame'], ['guilt'], ['joy'], ['fear'], ['anger'], ['sadness'], ['disgust'], ['sadness'], ['disgust'], ['shame'], ['guilt'], ['joy'], ['fear'], ['anger'], ['sadness'], ['disgust'], ['shame'], ['guilt'], ['joy'], ['fear'], ['anger'], ['sadness'], ['disgust'], ['shame'], ['guilt'], ['joy'], ['fear'], ['anger'], ['sadness'], ['guilt'], ['joy'], ['fear'], ['anger'], ['sadness'], ['disgust'], ['shame'], ['guilt'], ['joy'], ['fear'], ['anger'], ['sadness'], ['disgust'], ['shame'], ['guilt'], ['joy'], ['fear'], ['anger'], ['sadness'], ['disgust'], ['shame'], ['guilt'], ['joy'], ['fear'], ['anger'], ['sadness'], ['disgust'], ['shame'], ['guilt'], ['joy'], ['fear'], ['anger'], ['sadness'], ['sadness'], ['disgust'], ['shame'], ['guilt'], ['joy'], ['fear'], ['anger'], ['sadness'], ['disgust'], ['shame'], ['guilt'], ['anger'], ['sadness'], ['disgust'], ['shame'], ['guilt'], ['joy'], ['fear'], ['anger'], ['sadness'], ['disgust'], ['shame'], ['shame'], ['guilt'], ['joy'], ['fear'], ['anger'], ['sadness'], ['disgust'], ['shame'], ['guilt'], ['joy'], ['fear'], ['anger'], ['sadness'], ['disgust'], ['shame'], ['guilt'], ['joy'], ['fear'], ['anger'], ['sadness'], ['disgust'], ['shame'], ['guilt'], ['joy'], ['fear'], ['anger'], ['sadness'], ['disgust'], ['shame'], ['guilt'], ['joy'], ['fear'], ['anger'], ['sadness'], ['disgust'], ['shame'], ['guilt'], ['joy'], ['fear'], ['anger'], ['sadness'], ['disgust'], ['shame'], ['guilt'], ['joy'], ['fear'], ['anger'], ['sadness'], ['disgust'], ['shame'], ['guilt'], ['joy'], ['fear'], ['anger'], ['sadness'], ['disgust'], ['shame'], ['guilt'], ['joy'], ['fear'], ['anger'], ['sadness'], ['disgust'], ['shame'], ['guilt'], ['joy'], ['anger'], ['sadness'], ['disgust'], ['shame'], ['guilt'], ['joy'], ['fear'], ['anger'], ['sadness'], ['disgust'], ['shame'], ['guilt'], ['joy'], ['fear'], ['anger'], ['sadness'], ['disgust'], ['shame'], ['guilt'], ['joy'], ['fear'], ['anger'], ['sadness'], ['disgust'], ['shame'], ['guilt'], ['joy'], ['fear'], ['anger'], ['sadness'], ['disgust'], ['shame'], ['guilt'], ['joy'], ['fear'], ['anger'], ['sadness'], ['disgust'], ['shame'], ['guilt'], ['joy'], ['fear'], ['anger'], ['sadness'], ['disgust'], ['shame'], ['guilt'], ['joy'], ['fear'], ['anger'], ['sadness'], ['disgust'], ['shame'], ['guilt'], ['joy'], ['fear'], ['anger'], ['sadness'], ['disgust'], ['shame'], ['guilt'], ['joy'], ['fear'], ['anger'], ['sadness'], ['disgust'], ['shame'], ['guilt'], ['joy'], ['fear'], ['anger'], ['sadness'], ['disgust'], ['shame'], ['guilt'], ['joy'], ['fear'], ['anger'], ['sadness'], ['disgust'], ['shame'], ['guilt'], ['joy'], ['fear'], ['anger'], ['sadness'], ['disgust'], ['shame'], ['guilt'], ['joy'], ['fear'], ['anger'], ['sadness'], ['disgust'], ['shame'], ['guilt'], ['joy'], ['fear'], ['anger'], ['sadness'], ['disgust'], ['shame'], ['guilt'], ['joy'], ['fear'], ['anger'], ['sadness'], ['disgust'], ['shame'], ['guilt'], ['joy'], ['fear'], ['anger'], ['sadness'], ['disgust'], ['shame'], ['guilt'], ['joy'], ['fear'], ['anger'], ['sadness'], ['disgust'], ['shame'], ['guilt'], ['joy'], ['fear'], ['anger'], ['sadness'], ['disgust'], ['shame'], ['guilt'], ['joy'], ['fear'], ['anger'], ['sadness'], ['disgust'], ['shame'], ['guilt'], ['joy'], ['fear'], ['anger'], ['sadness'], ['disgust'], ['shame'], ['guilt'], ['joy'], ['fear'], ['anger'], ['sadness'], ['disgust'], ['shame'], ['guilt'], ['joy'], ['fear'], ['anger'], ['sadness'], ['disgust'], ['shame'], ['guilt'], ['joy'], ['fear'], ['anger'], ['sadness'], ['disgust'], ['shame'], ['guilt'], ['joy'], ['fear'], ['anger'], ['sadness'], ['disgust'], ['shame'], ['guilt'], ['joy'], ['fear'], ['anger'], ['disgust'], ['shame'], ['guilt'], ['joy'], ['fear'], ['anger'], ['sadness'], ['disgust'], ['shame'], ['guilt'], ['joy'], ['fear'], ['anger'], ['sadness'], ['disgust'], ['shame'], ['guilt'], ['joy'], ['fear'], ['anger'], ['sadness'], ['disgust'], ['shame'], ['guilt'], ['joy'], ['fear'], ['anger'], ['sadness'], ['disgust'], ['shame'], ['guilt'], ['joy'], ['fear'], ['anger'], ['sadness'], ['disgust'], ['shame'], ['guilt'], ['joy'], ['fear'], ['anger'], ['sadness'], ['disgust'], ['shame'], ['joy'], ['fear'], ['anger'], ['sadness'], ['disgust'], ['shame'], ['guilt'], ['joy'], ['fear'], ['anger'], ['sadness'], ['disgust'], ['shame'], ['guilt'], ['joy'], ['fear'], ['anger'], ['sadness'], ['disgust'], ['shame'], ['guilt'], ['joy'], ['fear'], ['anger'], ['sadness'], ['disgust'], ['shame'], ['guilt'], ['joy'], ['fear'], ['anger'], ['sadness'], ['disgust'], ['shame'], ['guilt'], ['joy'], ['fear'], ['anger'], ['sadness'], ['disgust'], ['shame'], ['guilt'], ['joy'], ['fear'], ['anger'], ['sadness'], ['disgust'], ['shame'], ['guilt'], ['joy'], ['fear'], ['anger'], ['sadness'], ['disgust'], ['shame'], ['guilt'], ['joy'], ['fear'], ['anger'], ['sadness'], ['disgust'], ['shame'], ['guilt'], ['joy'], ['fear'], ['anger'], ['sadness'], ['disgust'], ['shame'], ['guilt'], ['joy'], ['fear'], ['anger'], ['sadness'], ['disgust'], ['shame'], ['guilt'], ['joy'], ['fear'], ['anger'], ['sadness'], ['disgust'], ['shame'], ['guilt'], ['joy'], ['fear'], ['anger'], ['sadness'], ['disgust'], ['shame'], ['guilt'], ['joy'], ['fear'], ['anger'], ['sadness'], ['disgust'], ['shame'], ['guilt'], ['joy'], ['fear'], ['anger'], ['sadness'], ['disgust'], ['shame'], ['guilt'], ['joy'], ['fear'], ['anger'], ['sadness'], ['disgust'], ['shame'], ['guilt'], ['joy'], ['fear'], ['anger'], ['sadness'], ['disgust'], ['shame'], ['guilt'], ['joy'], ['fear'], ['anger'], ['sadness'], ['disgust'], ['shame'], ['guilt'], ['joy'], ['fear'], ['anger'], ['sadness'], ['disgust'], ['shame'], ['guilt'], ['joy'], ['fear'], ['anger'], ['sadness'], ['disgust'], ['shame'], ['guilt'], ['joy'], ['fear'], ['anger'], ['sadness'], ['disgust'], ['shame'], ['guilt'], ['joy'], ['fear'], ['anger'], ['sadness'], ['disgust'], ['shame'], ['guilt'], ['joy'], ['fear'], ['anger'], ['sadness'], ['disgust'], ['shame'], ['guilt'], ['joy'], ['fear'], ['anger'], ['sadness'], ['disgust'], ['shame'], ['guilt'], ['joy'], ['fear'], ['anger'], ['sadness'], ['disgust'], ['shame'], ['guilt'], ['joy'], ['fear'], ['anger'], ['sadness'], ['disgust'], ['shame'], ['guilt'], ['joy'], ['fear'], ['anger'], ['sadness'], ['disgust'], ['shame'], ['guilt'], ['joy'], ['fear'], ['anger'], ['sadness'], ['disgust'], ['shame'], ['guilt'], ['joy'], ['fear'], ['anger'], ['sadness'], ['disgust'], ['shame'], ['guilt'], ['joy'], ['fear'], ['anger'], ['sadness'], ['disgust'], ['shame'], ['disgust'], ['shame'], ['guilt'], ['joy'], ['fear'], ['anger'], ['sadness'], ['disgust'], ['shame'], ['guilt'], ['joy'], ['shame'], ['guilt'], ['joy'], ['fear'], ['anger'], ['sadness'], ['disgust'], ['shame'], ['guilt'], ['joy'], ['fear'], ['anger'], ['sadness'], ['disgust'], ['shame'], ['guilt'], ['joy'], ['fear'], ['anger'], ['sadness'], ['disgust'], ['shame'], ['sadness'], ['disgust'], ['shame'], ['guilt'], ['joy'], ['fear'], ['anger'], ['sadness'], ['disgust'], ['shame'], ['guilt'], ['joy'], ['fear'], ['anger'], ['sadness'], ['disgust'], ['shame'], ['guilt'], ['joy'], ['fear'], ['anger'], ['sadness'], ['disgust'], ['shame'], ['guilt'], ['joy'], ['fear'], ['anger'], ['sadness'], ['disgust'], ['shame'], ['guilt'], ['joy'], ['anger'], ['sadness'], ['disgust'], ['shame'], ['guilt'], ['joy'], ['fear'], ['anger'], ['sadness'], ['disgust'], ['shame'], ['guilt'], ['joy'], ['fear'], ['anger'], ['sadness'], ['disgust'], ['shame'], ['guilt'], ['joy'], ['fear'], ['anger'], ['sadness'], ['disgust'], ['shame'], ['guilt'], ['joy'], ['fear'], ['anger'], ['sadness'], ['disgust'], ['shame'], ['guilt'], ['guilt'], ['joy'], ['fear'], ['anger'], ['sadness'], ['disgust'], ['shame'], ['guilt'], ['joy'], ['fear'], ['anger'], ['sadness'], ['disgust'], ['shame'], ['guilt'], ['joy'], ['fear'], ['anger'], ['sadness'], ['disgust'], ['shame'], ['guilt'], ['joy'], ['fear'], ['anger'], ['sadness'], ['disgust'], ['shame'], ['guilt'], ['joy'], ['fear'], ['anger'], ['sadness'], ['disgust'], ['shame'], ['guilt'], ['joy'], ['fear'], ['anger'], ['sadness'], ['disgust'], ['shame'], ['guilt'], ['joy'], ['fear'], ['anger'], ['sadness'], ['disgust'], ['shame'], ['guilt'], ['joy'], ['fear'], ['anger'], ['sadness'], ['disgust'], ['shame'], ['guilt'], ['joy'], ['fear'], ['anger'], ['sadness'], ['disgust'], ['shame'], ['guilt'], ['joy'], ['fear'], ['anger'], ['sadness'], ['disgust'], ['shame'], ['guilt'], ['joy'], ['fear'], ['anger'], ['sadness'], ['disgust'], ['shame'], ['guilt'], ['joy'], ['fear'], ['anger'], ['sadness'], ['disgust'], ['shame'], ['guilt'], ['joy'], ['fear'], ['anger'], ['sadness'], ['disgust'], ['shame'], ['guilt'], ['joy'], ['fear'], ['anger'], ['sadness'], ['disgust'], ['shame'], ['guilt'], ['joy'], ['fear'], ['anger'], ['sadness'], ['disgust'], ['shame'], ['guilt'], ['joy'], ['fear'], ['anger'], ['sadness'], ['disgust'], ['shame'], ['guilt'], ['joy'], ['fear'], ['anger'], ['sadness'], ['disgust'], ['shame'], ['guilt'], ['joy'], ['fear'], ['anger'], ['sadness'], ['disgust'], ['shame'], ['guilt'], ['joy'], ['fear'], ['anger'], ['sadness'], ['disgust'], ['shame'], ['guilt'], ['joy'], ['fear'], ['anger'], ['sadness'], ['disgust'], ['shame'], ['guilt'], ['joy'], ['fear'], ['anger'], ['sadness'], ['disgust'], ['shame'], ['guilt'], ['joy'], ['fear'], ['anger'], ['sadness'], ['disgust'], ['shame'], ['guilt'], ['joy'], ['fear'], ['anger'], ['sadness'], ['disgust'], ['shame'], ['guilt'], ['joy'], ['fear'], ['anger'], ['joy'], ['fear'], ['anger'], ['sadness'], ['disgust'], ['shame'], ['guilt'], ['joy'], ['fear'], ['anger'], ['sadness'], ['disgust'], ['shame'], ['guilt'], ['joy'], ['fear'], ['anger'], ['sadness'], ['disgust'], ['shame'], ['guilt'], ['joy'], ['fear'], ['anger'], ['sadness'], ['disgust'], ['shame'], ['guilt'], ['joy'], ['fear'], ['anger'], ['sadness'], ['disgust'], ['shame'], ['guilt'], ['joy'], ['fear'], ['anger'], ['sadness'], ['disgust'], ['shame'], ['guilt'], ['joy'], ['fear'], ['anger'], ['sadness'], ['disgust'], ['shame'], ['guilt'], ['joy'], ['fear'], ['anger'], ['sadness'], ['disgust'], ['shame'], ['guilt'], ['joy'], ['fear'], ['anger'], ['sadness'], ['disgust'], ['shame'], ['guilt'], ['joy'], ['fear'], ['anger'], ['fear'], ['anger'], ['sadness'], ['disgust'], ['shame'], ['guilt'], ['joy'], ['fear'], ['anger'], ['sadness'], ['disgust'], ['shame'], ['guilt'], ['joy'], ['fear'], ['anger'], ['sadness'], ['shame'], ['guilt'], ['joy'], ['fear'], ['anger'], ['sadness'], ['disgust'], ['shame'], ['guilt'], ['joy'], ['fear'], ['anger'], ['sadness'], ['disgust'], ['shame'], ['guilt'], ['joy'], ['fear'], ['anger'], ['sadness'], ['disgust'], ['shame'], ['guilt'], ['joy'], ['fear'], ['anger'], ['sadness'], ['disgust'], ['shame'], ['guilt'], ['joy'], ['fear'], ['anger'], ['sadness'], ['disgust'], ['shame'], ['guilt'], ['joy'], ['fear'], ['anger'], ['sadness'], ['disgust'], ['shame'], ['guilt'], ['joy'], ['fear'], ['anger'], ['sadness'], ['disgust'], ['shame'], ['guilt'], ['joy'], ['fear'], ['anger'], ['sadness'], ['disgust'], ['shame'], ['guilt'], ['joy'], ['fear'], ['anger'], ['sadness'], ['disgust'], ['shame'], ['guilt'], ['joy'], ['fear'], ['anger'], ['sadness'], ['disgust'], ['shame'], ['guilt'], ['joy'], ['fear'], ['anger'], ['sadness'], ['disgust'], ['shame'], ['guilt'], ['joy'], ['fear'], ['anger'], ['sadness'], ['disgust'], ['shame'], ['guilt'], ['joy'], ['fear'], ['anger'], ['sadness'], ['disgust'], ['shame'], ['guilt'], ['joy'], ['fear'], ['anger'], ['sadness'], ['disgust'], ['shame'], ['guilt'], ['joy'], ['fear'], ['anger'], ['sadness'], ['disgust'], ['shame'], ['guilt'], ['joy'], ['fear'], ['anger'], ['sadness'], ['disgust'], ['shame'], ['guilt'], ['joy'], ['fear'], ['anger'], ['sadness'], ['disgust'], ['shame'], ['guilt'], ['joy'], ['fear'], ['anger'], ['sadness'], ['disgust'], ['shame'], ['guilt'], ['joy'], ['fear'], ['anger'], ['sadness'], ['disgust'], ['shame'], ['guilt'], ['joy'], ['fear'], ['anger'], ['sadness'], ['disgust'], ['shame'], ['guilt'], ['joy'], ['fear'], ['anger'], ['sadness'], ['disgust'], ['shame'], ['guilt'], ['joy'], ['fear'], ['anger'], ['sadness'], ['disgust'], ['shame'], ['guilt'], ['joy'], ['fear'], ['guilt'], ['joy'], ['fear'], ['anger'], ['sadness'], ['disgust'], ['shame'], ['guilt'], ['joy'], ['fear'], ['anger'], ['sadness'], ['disgust'], ['shame'], ['guilt'], ['joy'], ['fear'], ['anger'], ['sadness'], ['disgust'], ['shame'], ['guilt'], ['joy'], ['fear'], ['anger'], ['sadness'], ['disgust'], ['shame'], ['guilt'], ['joy'], ['fear'], ['anger'], ['sadness'], ['sadness'], ['disgust'], ['shame'], ['guilt'], ['joy'], ['fear'], ['anger'], ['sadness'], ['disgust'], ['shame'], ['guilt'], ['joy'], ['fear'], ['anger'], ['sadness'], ['disgust'], ['shame'], ['guilt'], ['joy'], ['fear'], ['anger'], ['sadness'], ['disgust'], ['shame'], ['guilt'], ['joy'], ['fear'], ['anger'], ['sadness'], ['disgust'], ['shame'], ['guilt'], ['joy'], ['disgust'], ['shame'], ['guilt'], ['joy'], ['fear'], ['anger'], ['sadness'], ['disgust'], ['shame'], ['guilt'], ['joy'], ['shame'], ['guilt'], ['joy'], ['fear'], ['anger'], ['sadness'], ['disgust'], ['shame'], ['guilt'], ['joy'], ['fear'], ['disgust'], ['shame'], ['guilt'], ['joy'], ['fear'], ['anger'], ['sadness'], ['disgust'], ['shame'], ['guilt'], ['joy'], ['fear'], ['anger'], ['sadness'], ['disgust'], ['shame'], ['guilt'], ['joy'], ['fear'], ['anger'], ['sadness'], ['disgust'], ['shame'], ['guilt'], ['joy'], ['fear'], ['anger'], ['sadness'], ['disgust'], ['shame'], ['guilt'], ['joy'], ['fear'], ['joy'], ['fear'], ['anger'], ['sadness'], ['disgust'], ['shame'], ['guilt'], ['joy'], ['fear'], ['anger'], ['sadness'], ['anger'], ['sadness'], ['disgust'], ['shame'], ['guilt'], ['joy'], ['fear'], ['anger'], ['sadness'], ['disgust'], ['shame'], ['guilt'], ['joy'], ['fear'], ['anger'], ['sadness'], ['disgust'], ['shame'], ['guilt'], ['joy'], ['fear'], ['anger'], ['sadness'], ['disgust'], ['shame'], ['guilt'], ['joy'], ['fear'], ['anger'], ['sadness'], ['disgust'], ['shame'], ['guilt'], ['joy'], ['fear'], ['anger'], ['sadness'], ['disgust'], ['shame'], ['guilt'], ['joy'], ['fear'], ['anger'], ['sadness'], ['disgust'], ['shame'], ['guilt'], ['joy'], ['fear'], ['anger'], ['sadness'], ['disgust'], ['shame'], ['guilt'], ['joy'], ['fear'], ['anger'], ['sadness'], ['disgust'], ['shame'], ['guilt'], ['joy'], ['fear'], ['anger'], ['sadness'], ['disgust'], ['shame'], ['guilt'], ['joy'], ['fear'], ['anger'], ['sadness'], ['disgust'], ['shame'], ['guilt'], ['joy'], ['fear'], ['disgust'], ['shame'], ['guilt'], ['joy'], ['fear'], ['anger'], ['sadness'], ['disgust'], ['shame'], ['guilt'], ['joy'], ['fear'], ['anger'], ['sadness'], ['disgust'], ['shame'], ['guilt'], ['joy'], ['fear'], ['anger'], ['sadness'], ['disgust'], ['shame'], ['guilt'], ['joy'], ['fear'], ['anger'], ['sadness'], ['disgust'], ['shame'], ['guilt'], ['joy'], ['fear'], ['anger'], ['sadness'], ['disgust'], ['shame'], ['guilt'], ['joy'], ['fear'], ['anger'], ['sadness'], ['disgust'], ['shame'], ['guilt'], ['joy'], ['fear'], ['anger'], ['sadness'], ['disgust'], ['shame'], ['guilt'], ['joy'], ['fear'], ['anger'], ['sadness'], ['disgust'], ['shame'], ['guilt'], ['joy'], ['fear'], ['anger'], ['sadness'], ['disgust'], ['shame'], ['guilt'], ['joy'], ['fear'], ['anger'], ['sadness'], ['disgust'], ['shame'], ['guilt'], ['joy'], ['fear'], ['anger'], ['sadness'], ['disgust'], ['shame'], ['guilt'], ['joy'], ['fear'], ['anger'], ['sadness'], ['disgust'], ['shame'], ['guilt'], ['joy'], ['fear'], ['anger'], ['sadness'], ['disgust'], ['shame'], ['guilt'], ['joy'], ['fear'], ['anger'], ['sadness'], ['disgust'], ['shame'], ['guilt'], ['joy'], ['fear'], ['anger'], ['sadness'], ['disgust'], ['shame'], ['guilt'], ['joy'], ['fear'], ['anger'], ['sadness'], ['disgust'], ['shame'], ['guilt'], ['joy'], ['fear'], ['anger'], ['sadness'], ['disgust'], ['shame'], ['guilt'], ['joy'], ['fear'], ['anger'], ['sadness'], ['disgust'], ['shame'], ['guilt'], ['joy'], ['fear'], ['anger'], ['fear'], ['anger'], ['sadness'], ['disgust'], ['shame'], ['guilt'], ['joy'], ['fear'], ['anger'], ['sadness'], ['disgust'], ['shame'], ['guilt'], ['joy'], ['fear'], ['anger'], ['sadness'], ['disgust'], ['shame'], ['guilt'], ['joy'], ['fear'], ['anger'], ['sadness'], ['disgust'], ['shame'], ['guilt'], ['joy'], ['fear'], ['anger'], ['sadness'], ['disgust'], ['shame'], ['guilt'], ['joy'], ['fear'], ['anger'], ['sadness'], ['disgust'], ['shame'], ['guilt'], ['joy'], ['fear'], ['anger'], ['sadness'], ['disgust'], ['shame'], ['guilt'], ['joy'], ['fear'], ['anger'], ['sadness'], ['disgust'], ['shame'], ['guilt'], ['joy'], ['fear'], ['anger'], ['sadness'], ['disgust'], ['shame'], ['guilt'], ['joy'], ['fear'], ['anger'], ['sadness'], ['disgust'], ['shame'], ['guilt'], ['joy'], ['fear'], ['anger'], ['sadness'], ['disgust'], ['shame'], ['guilt'], ['joy'], ['fear'], ['anger'], ['sadness'], ['disgust'], ['shame'], ['guilt'], ['joy'], ['fear'], ['anger'], ['sadness'], ['disgust'], ['shame'], ['guilt'], ['joy'], ['fear'], ['anger'], ['sadness'], ['disgust'], ['shame'], ['guilt'], ['joy'], ['fear'], ['disgust'], ['shame'], ['guilt'], ['joy'], ['fear'], ['anger'], ['sadness'], ['disgust'], ['shame'], ['guilt'], ['joy'], ['fear'], ['anger'], ['sadness'], ['disgust'], ['shame'], ['guilt'], ['joy'], ['fear'], ['anger'], ['sadness'], ['disgust'], ['shame'], ['guilt'], ['joy'], ['fear'], ['anger'], ['sadness'], ['disgust'], ['shame'], ['guilt'], ['joy'], ['fear'], ['anger'], ['sadness'], ['disgust'], ['shame'], ['guilt'], ['joy'], ['fear'], ['anger'], ['sadness'], ['disgust'], ['shame'], ['guilt'], ['joy'], ['fear'], ['anger'], ['sadness'], ['disgust'], ['shame'], ['guilt'], ['joy'], ['fear'], ['anger'], ['sadness'], ['disgust'], ['shame'], ['guilt'], ['joy'], ['fear'], ['anger'], ['sadness'], ['disgust'], ['shame'], ['guilt'], ['joy'], ['fear'], ['anger'], ['sadness'], ['disgust'], ['shame'], ['guilt'], ['joy'], ['fear'], ['anger'], ['sadness'], ['disgust'], ['shame'], ['guilt'], ['joy'], ['fear'], ['anger'], ['sadness'], ['disgust'], ['shame'], ['guilt'], ['joy'], ['fear'], ['anger'], ['sadness'], ['disgust'], ['shame'], ['guilt'], ['joy'], ['fear'], ['anger'], ['sadness'], ['disgust'], ['shame'], ['guilt'], ['joy'], ['fear'], ['anger'], ['sadness'], ['disgust'], ['shame'], ['guilt'], ['joy'], ['fear'], ['anger'], ['sadness'], ['disgust'], ['shame'], ['guilt'], ['joy'], ['fear'], ['anger'], ['sadness'], ['disgust'], ['shame'], ['guilt'], ['joy'], ['fear'], ['anger'], ['sadness'], ['disgust'], ['shame'], ['guilt'], ['joy'], ['fear'], ['anger'], ['sadness'], ['disgust'], ['shame'], ['guilt'], ['joy'], ['fear'], ['anger'], ['sadness'], ['disgust'], ['shame'], ['guilt'], ['joy'], ['fear'], ['anger'], ['sadness'], ['disgust'], ['shame'], ['guilt'], ['joy'], ['fear'], ['anger'], ['sadness'], ['fear'], ['anger'], ['sadness'], ['disgust'], ['shame'], ['guilt'], ['joy'], ['fear'], ['anger'], ['sadness'], ['disgust'], ['shame'], ['guilt'], ['joy'], ['fear'], ['anger'], ['sadness'], ['disgust'], ['shame'], ['guilt'], ['joy'], ['fear'], ['anger'], ['sadness'], ['disgust'], ['shame'], ['guilt'], ['joy'], ['fear'], ['anger'], ['sadness'], ['disgust'], ['shame'], ['guilt'], ['joy'], ['fear'], ['anger'], ['sadness'], ['disgust'], ['shame'], ['guilt'], ['joy'], ['fear'], ['anger'], ['sadness'], ['disgust'], ['shame'], ['guilt'], ['joy'], ['fear'], ['anger'], ['sadness'], ['disgust'], ['shame'], ['guilt'], ['joy'], ['fear'], ['anger'], ['sadness'], ['disgust'], ['shame'], ['guilt'], ['joy'], ['fear'], ['anger'], ['sadness'], ['anger'], ['sadness'], ['disgust'], ['shame'], ['guilt'], ['joy'], ['fear'], ['anger'], ['sadness'], ['disgust'], ['shame'], ['guilt'], ['joy'], ['fear'], ['anger'], ['sadness'], ['disgust'], ['shame'], ['guilt'], ['joy'], ['fear'], ['anger'], ['sadness'], ['disgust'], ['shame'], ['guilt'], ['joy'], ['fear'], ['anger'], ['sadness'], ['disgust'], ['shame'], ['guilt'], ['joy'], ['fear'], ['anger'], ['sadness'], ['disgust'], ['shame'], ['guilt'], ['joy'], ['fear'], ['anger'], ['sadness'], ['disgust'], ['shame'], ['guilt'], ['joy'], ['fear'], ['anger'], ['sadness'], ['disgust'], ['shame'], ['guilt'], ['joy'], ['fear'], ['anger'], ['sadness'], ['disgust'], ['shame'], ['guilt'], ['joy'], ['fear'], ['anger'], ['sadness'], ['disgust'], ['shame'], ['guilt'], ['joy'], ['fear'], ['anger'], ['sadness'], ['disgust'], ['shame'], ['guilt'], ['joy'], ['fear'], ['anger'], ['sadness'], ['disgust'], ['shame'], ['guilt'], ['joy'], ['fear'], ['anger'], ['sadness'], ['disgust'], ['shame'], ['guilt'], ['joy'], ['fear'], ['anger'], ['sadness'], ['disgust'], ['shame'], ['guilt'], ['joy'], ['fear'], ['anger'], ['sadness'], ['disgust'], ['shame'], ['guilt'], ['joy'], ['fear'], ['anger'], ['sadness'], ['disgust'], ['shame'], ['guilt'], ['joy'], ['fear'], ['anger'], ['sadness'], ['disgust'], ['shame'], ['guilt'], ['joy'], ['fear'], ['anger'], ['sadness'], ['disgust'], ['shame'], ['guilt'], ['joy'], ['fear'], ['anger'], ['sadness'], ['disgust'], ['shame'], ['guilt'], ['joy'], ['fear'], ['anger'], ['sadness'], ['disgust'], ['shame'], ['guilt'], ['joy'], ['fear'], ['anger'], ['sadness'], ['disgust'], ['shame'], ['guilt'], ['joy'], ['fear'], ['anger'], ['sadness'], ['disgust'], ['shame'], ['guilt'], ['joy'], ['fear'], ['anger'], ['sadness'], ['disgust'], ['shame'], ['guilt'], ['joy'], ['fear'], ['anger'], ['sadness'], ['disgust'], ['shame'], ['guilt'], ['joy'], ['fear'], ['anger'], ['sadness'], ['disgust'], ['shame'], ['guilt'], ['joy'], ['fear'], ['anger'], ['sadness'], ['disgust'], ['shame'], ['guilt'], ['joy'], ['fear'], ['anger'], ['sadness'], ['disgust'], ['shame'], ['guilt'], ['joy'], ['fear'], ['anger'], ['sadness'], ['disgust'], ['shame'], ['guilt'], ['joy'], ['fear'], ['anger'], ['sadness'], ['disgust'], ['shame'], ['guilt'], ['joy'], ['fear'], ['anger'], ['sadness'], ['disgust'], ['shame'], ['guilt'], ['joy'], ['fear'], ['anger'], ['sadness'], ['disgust'], ['shame'], ['guilt'], ['joy'], ['fear'], ['anger'], ['sadness'], ['disgust'], ['shame'], ['guilt'], ['joy'], ['fear'], ['anger'], ['sadness'], ['disgust'], ['shame'], ['guilt'], ['joy'], ['fear'], ['anger'], ['sadness'], ['disgust'], ['shame'], ['guilt'], ['joy'], ['fear'], ['anger'], ['sadness'], ['disgust'], ['shame'], ['guilt'], ['joy'], ['fear'], ['anger'], ['sadness'], ['disgust'], ['shame'], ['guilt'], ['joy'], ['fear'], ['anger'], ['sadness'], ['disgust'], ['shame'], ['guilt'], ['joy'], ['fear'], ['anger'], ['sadness'], ['disgust'], ['shame'], ['guilt'], ['joy'], ['fear'], ['anger'], ['sadness'], ['disgust'], ['shame'], ['guilt'], ['joy'], ['fear'], ['anger'], ['sadness'], ['shame'], ['guilt'], ['joy'], ['fear'], ['anger'], ['sadness'], ['disgust'], ['shame'], ['guilt'], ['joy'], ['fear'], ['anger'], ['sadness'], ['disgust'], ['shame'], ['guilt'], ['joy'], ['fear'], ['anger'], ['sadness'], ['disgust'], ['shame'], ['guilt'], ['joy'], ['fear'], ['anger'], ['sadness'], ['disgust'], ['shame'], ['guilt'], ['joy'], ['fear'], ['anger'], ['fear'], ['anger'], ['sadness'], ['disgust'], ['shame'], ['guilt'], ['joy'], ['fear'], ['anger'], ['disgust'], ['joy'], ['fear'], ['anger'], ['sadness'], ['disgust'], ['shame'], ['guilt'], ['joy'], ['fear'], ['anger'], ['sadness'], ['disgust'], ['shame'], ['guilt'], ['joy'], ['fear'], ['anger'], ['sadness'], ['disgust'], ['shame'], ['guilt'], ['joy'], ['disgust'], ['shame'], ['guilt'], ['joy'], ['fear'], ['anger'], ['sadness'], ['disgust'], ['shame'], ['guilt'], ['joy'], ['fear'], ['anger'], ['sadness'], ['disgust'], ['shame'], ['guilt'], ['joy'], ['fear'], ['anger'], ['sadness'], ['disgust'], ['shame'], ['guilt'], ['joy'], ['fear'], ['anger'], ['sadness'], ['disgust'], ['shame'], ['guilt'], ['joy'], ['fear'], ['anger'], ['sadness'], ['disgust'], ['shame'], ['guilt'], ['joy'], ['fear'], ['anger'], ['sadness'], ['disgust'], ['shame'], ['guilt'], ['joy'], ['fear'], ['anger'], ['sadness'], ['disgust'], ['shame'], ['guilt'], ['joy'], ['fear'], ['anger'], ['sadness'], ['disgust'], ['shame'], ['guilt'], ['joy'], ['fear'], ['anger'], ['sadness'], ['disgust'], ['shame'], ['guilt'], ['joy'], ['fear'], ['anger'], ['sadness'], ['disgust'], ['shame'], ['guilt'], ['joy'], ['fear'], ['anger'], ['sadness'], ['disgust'], ['shame'], ['guilt'], ['joy'], ['fear'], ['anger'], ['sadness'], ['disgust'], ['shame'], ['guilt'], ['joy'], ['fear'], ['anger'], ['sadness'], ['disgust'], ['shame'], ['guilt'], ['joy'], ['fear'], ['anger'], ['sadness'], ['disgust'], ['anger'], ['sadness'], ['disgust'], ['shame'], ['guilt'], ['joy'], ['fear'], ['anger'], ['sadness'], ['disgust'], ['shame'], ['guilt'], ['joy'], ['fear'], ['anger'], ['sadness'], ['disgust'], ['shame'], ['guilt'], ['joy'], ['fear'], ['anger'], ['anger'], ['sadness'], ['disgust'], ['shame'], ['guilt'], ['joy'], ['fear'], ['anger'], ['sadness'], ['disgust'], ['shame'], ['guilt'], ['joy'], ['fear'], ['anger'], ['sadness'], ['disgust'], ['shame'], ['guilt'], ['joy'], ['fear'], ['anger'], ['sadness'], ['disgust'], ['shame'], ['guilt'], ['joy'], ['fear'], ['anger'], ['sadness'], ['disgust'], ['shame'], ['guilt'], ['fear'], ['anger'], ['sadness'], ['disgust'], ['shame'], ['guilt'], ['joy'], ['fear'], ['anger'], ['sadness'], ['disgust'], ['guilt'], ['joy'], ['fear'], ['anger'], ['sadness'], ['disgust'], ['shame'], ['guilt'], ['joy'], ['fear'], ['anger'], ['sadness'], ['disgust'], ['shame'], ['guilt'], ['joy'], ['fear'], ['anger'], ['sadness'], ['disgust'], ['shame'], ['guilt'], ['sadness'], ['disgust'], ['shame'], ['guilt'], ['joy'], ['fear'], ['anger'], ['sadness'], ['disgust'], ['shame'], ['guilt'], ['joy'], ['fear'], ['anger'], ['sadness'], ['disgust'], ['shame'], ['guilt'], ['joy'], ['fear'], ['anger'], ['sadness'], ['disgust'], ['shame'], ['guilt'], ['joy'], ['fear'], ['anger'], ['sadness'], ['disgust'], ['shame'], ['guilt'], ['joy'], ['fear'], ['anger'], ['sadness'], ['disgust'], ['shame'], ['guilt'], ['joy'], ['fear'], ['anger'], ['sadness'], ['disgust'], ['shame'], ['guilt'], ['joy'], ['fear'], ['anger'], ['sadness'], ['disgust'], ['shame'], ['guilt'], ['joy'], ['anger'], ['sadness'], ['disgust'], ['shame'], ['guilt'], ['joy'], ['fear'], ['anger'], ['sadness'], ['disgust'], ['shame'], ['guilt'], ['joy'], ['fear'], ['anger'], ['sadness'], ['disgust'], ['shame'], ['guilt'], ['joy'], ['fear'], ['anger'], ['sadness'], ['disgust'], ['shame'], ['guilt'], ['joy'], ['fear'], ['anger'], ['sadness'], ['disgust'], ['shame'], ['guilt'], ['joy'], ['fear'], ['anger'], ['sadness'], ['disgust'], ['shame'], ['guilt'], ['joy'], ['fear'], ['anger'], ['sadness'], ['disgust'], ['shame'], ['guilt'], ['joy'], ['fear'], ['anger'], ['sadness'], ['disgust'], ['shame'], ['guilt'], ['joy'], ['fear'], ['anger'], ['sadness'], ['disgust'], ['shame'], ['guilt'], ['joy'], ['fear'], ['anger'], ['sadness'], ['disgust'], ['sadness'], ['disgust'], ['shame'], ['guilt'], ['joy'], ['fear'], ['anger'], ['sadness'], ['disgust'], ['shame'], ['guilt'], ['joy'], ['fear'], ['anger'], ['sadness'], ['disgust'], ['shame'], ['guilt'], ['joy'], ['fear'], ['anger'], ['sadness'], ['disgust'], ['shame'], ['guilt'], ['joy'], ['fear'], ['anger'], ['sadness'], ['disgust'], ['shame'], ['guilt'], ['joy'], ['fear'], ['anger'], ['sadness'], ['disgust'], ['shame'], ['guilt'], ['joy'], ['fear'], ['anger'], ['sadness'], ['disgust'], ['shame'], ['guilt'], ['joy'], ['fear'], ['anger'], ['sadness'], ['disgust'], ['shame'], ['guilt'], ['joy'], ['fear'], ['anger'], ['sadness'], ['disgust'], ['shame'], ['guilt'], ['joy'], ['fear'], ['anger'], ['sadness'], ['disgust'], ['shame'], ['guilt'], ['joy'], ['fear'], ['anger'], ['sadness'], ['disgust'], ['shame'], ['guilt'], ['joy'], ['fear'], ['anger'], ['sadness'], ['disgust'], ['shame'], ['guilt'], ['joy'], ['fear'], ['anger'], ['sadness'], ['disgust'], ['shame'], ['guilt'], ['joy'], ['fear'], ['anger'], ['sadness'], ['disgust'], ['shame'], ['guilt'], ['joy'], ['fear'], ['anger'], ['sadness'], ['disgust'], ['shame'], ['guilt'], ['joy'], ['fear'], ['anger'], ['sadness'], ['disgust'], ['shame'], ['guilt'], ['joy'], ['fear'], ['anger'], ['sadness'], ['disgust'], ['shame'], ['guilt'], ['joy'], ['fear'], ['anger'], ['sadness'], ['disgust'], ['shame'], ['guilt'], ['joy'], ['fear'], ['anger'], ['sadness'], ['disgust'], ['shame'], ['guilt'], ['joy'], ['fear'], ['joy'], ['fear'], ['anger'], ['sadness'], ['disgust'], ['shame'], ['guilt'], ['joy'], ['fear'], ['anger'], ['sadness'], ['disgust'], ['shame'], ['guilt'], ['joy'], ['fear'], ['anger'], ['sadness'], ['disgust'], ['shame'], ['guilt'], ['joy'], ['shame'], ['guilt'], ['joy'], ['fear'], ['anger'], ['sadness'], ['disgust'], ['shame'], ['guilt'], ['joy'], ['fear'], ['anger'], ['sadness'], ['disgust'], ['shame'], ['guilt'], ['joy'], ['fear'], ['anger'], ['sadness'], ['disgust'], ['shame'], ['guilt'], ['joy'], ['fear'], ['anger'], ['sadness'], ['disgust'], ['shame'], ['guilt'], ['joy'], ['fear'], ['anger'], ['sadness'], ['disgust'], ['shame'], ['guilt'], ['joy'], ['fear'], ['anger'], ['sadness'], ['disgust'], ['shame'], ['guilt'], ['joy'], ['fear'], ['anger'], ['sadness'], ['disgust'], ['shame'], ['guilt'], ['joy'], ['fear'], ['anger'], ['sadness'], ['disgust'], ['shame'], ['guilt'], ['joy'], ['fear'], ['anger'], ['sadness'], ['disgust'], ['shame'], ['guilt'], ['joy'], ['fear'], ['anger'], ['sadness'], ['disgust'], ['shame'], ['guilt'], ['joy'], ['fear'], ['anger'], ['sadness'], ['disgust'], ['shame'], ['guilt'], ['joy'], ['fear'], ['anger'], ['sadness'], ['disgust'], ['shame'], ['guilt'], ['joy'], ['fear'], ['anger'], ['sadness'], ['disgust'], ['shame'], ['guilt'], ['joy'], ['fear'], ['anger'], ['sadness'], ['disgust'], ['shame'], ['guilt'], ['joy'], ['fear'], ['anger'], ['sadness'], ['disgust'], ['shame'], ['guilt'], ['joy'], ['fear'], ['anger'], ['sadness'], ['disgust'], ['shame'], ['guilt'], ['joy'], ['fear'], ['anger'], ['sadness'], ['disgust'], ['shame'], ['guilt'], ['joy'], ['fear'], ['anger'], ['sadness'], ['disgust'], ['shame'], ['guilt'], ['joy'], ['fear'], ['anger'], ['sadness'], ['disgust'], ['shame'], ['guilt'], ['joy'], ['fear'], ['anger'], ['sadness'], ['disgust'], ['shame'], ['guilt'], ['joy'], ['fear'], ['anger'], ['sadness'], ['disgust'], ['shame'], ['guilt'], ['joy'], ['fear'], ['anger'], ['sadness'], ['disgust'], ['shame'], ['guilt'], ['joy'], ['fear'], ['anger'], ['sadness'], ['disgust'], ['shame'], ['guilt'], ['joy'], ['fear'], ['anger'], ['sadness'], ['disgust'], ['shame'], ['guilt'], ['joy'], ['fear'], ['anger'], ['sadness'], ['disgust'], ['shame'], ['guilt'], ['joy'], ['fear'], ['anger'], ['sadness'], ['disgust'], ['shame'], ['guilt'], ['joy'], ['fear'], ['anger'], ['sadness'], ['disgust'], ['shame'], ['guilt'], ['joy'], ['fear'], ['anger'], ['sadness'], ['disgust'], ['shame'], ['guilt'], ['joy'], ['fear'], ['anger'], ['sadness'], ['disgust'], ['shame'], ['guilt'], ['joy'], ['fear'], ['anger'], ['sadness'], ['disgust'], ['shame'], ['guilt'], ['joy'], ['fear'], ['anger'], ['sadness'], ['disgust'], ['shame'], ['guilt'], ['joy'], ['fear'], ['anger'], ['sadness'], ['disgust'], ['shame'], ['guilt'], ['joy'], ['fear'], ['anger'], ['sadness'], ['disgust'], ['shame'], ['guilt'], ['joy'], ['fear'], ['anger'], ['sadness'], ['disgust'], ['shame'], ['guilt'], ['joy'], ['fear'], ['anger'], ['sadness'], ['disgust'], ['shame'], ['guilt'], ['joy'], ['fear'], ['anger'], ['sadness'], ['disgust'], ['shame'], ['guilt'], ['joy'], ['fear'], ['anger'], ['sadness'], ['disgust'], ['shame'], ['guilt'], ['joy'], ['fear'], ['anger'], ['sadness'], ['disgust'], ['shame'], ['guilt'], ['joy'], ['fear'], ['anger'], ['sadness'], ['disgust'], ['shame'], ['guilt'], ['fear'], ['anger'], ['sadness'], ['disgust'], ['shame'], ['guilt'], ['joy'], ['fear'], ['anger'], ['sadness'], ['disgust'], ['shame'], ['guilt'], ['joy'], ['fear'], ['anger'], ['sadness'], ['disgust'], ['shame'], ['guilt'], ['joy'], ['fear'], ['anger'], ['sadness'], ['disgust'], ['shame'], ['guilt'], ['joy'], ['fear'], ['anger'], ['sadness'], ['disgust'], ['shame'], ['guilt'], ['joy'], ['fear'], ['anger'], ['sadness'], ['disgust'], ['shame'], ['guilt'], ['joy'], ['fear'], ['anger'], ['sadness'], ['disgust'], ['shame'], ['guilt'], ['joy'], ['fear'], ['anger'], ['sadness'], ['disgust'], ['shame'], ['guilt'], ['joy'], ['fear'], ['anger'], ['sadness'], ['disgust'], ['shame'], ['guilt'], ['joy'], ['fear'], ['anger'], ['sadness'], ['disgust'], ['shame'], ['guilt'], ['joy'], ['fear'], ['anger'], ['sadness'], ['disgust'], ['shame'], ['guilt'], ['joy'], ['fear'], ['anger'], ['sadness'], ['disgust'], ['shame'], ['guilt'], ['joy'], ['fear'], ['anger'], ['sadness'], ['disgust'], ['shame'], ['guilt'], ['joy'], ['fear'], ['anger'], ['sadness'], ['disgust'], ['shame'], ['guilt'], ['joy'], ['fear'], ['anger'], ['sadness'], ['disgust'], ['shame'], ['guilt'], ['joy'], ['fear'], ['anger'], ['sadness'], ['disgust'], ['shame'], ['guilt'], ['joy'], ['fear'], ['anger'], ['sadness'], ['disgust'], ['shame'], ['guilt'], ['joy'], ['fear'], ['anger'], ['sadness'], ['disgust'], ['shame'], ['guilt'], ['joy'], ['fear'], ['anger'], ['sadness'], ['disgust'], ['shame'], ['guilt'], ['joy'], ['fear'], ['anger'], ['sadness'], ['disgust'], ['shame'], ['guilt'], ['joy'], ['fear'], ['anger'], ['sadness'], ['disgust'], ['shame'], ['guilt'], ['joy'], ['fear'], ['anger'], ['sadness'], ['disgust'], ['shame'], ['guilt'], ['joy'], ['fear'], ['anger'], ['sadness'], ['disgust'], ['shame'], ['guilt'], ['joy'], ['fear'], ['anger'], ['disgust'], ['shame'], ['guilt'], ['joy'], ['fear'], ['anger'], ['disgust'], ['shame'], ['guilt'], ['joy'], ['fear'], ['anger'], ['sadness'], ['disgust'], ['shame'], ['guilt'], ['joy'], ['fear'], ['anger'], ['sadness'], ['disgust'], ['shame'], ['guilt'], ['joy'], ['fear'], ['anger'], ['sadness'], ['disgust'], ['shame'], ['guilt'], ['joy'], ['fear'], ['anger'], ['sadness'], ['disgust'], ['shame'], ['guilt'], ['joy'], ['fear'], ['anger'], ['sadness'], ['disgust'], ['shame'], ['guilt'], ['joy'], ['fear'], ['anger'], ['sadness'], ['disgust'], ['shame'], ['guilt'], ['joy'], ['fear'], ['anger'], ['sadness'], ['disgust'], ['shame'], ['guilt'], ['joy'], ['fear'], ['anger'], ['sadness'], ['disgust'], ['shame'], ['guilt'], ['joy'], ['fear'], ['anger'], ['sadness'], ['disgust'], ['shame'], ['guilt'], ['joy'], ['fear'], ['anger'], ['sadness'], ['disgust'], ['shame'], ['guilt'], ['joy'], ['fear'], ['anger'], ['sadness'], ['disgust'], ['shame'], ['guilt'], ['joy'], ['fear'], ['anger'], ['sadness'], ['disgust'], ['shame'], ['guilt'], ['joy'], ['fear'], ['anger'], ['sadness'], ['disgust'], ['shame'], ['guilt'], ['joy'], ['fear'], ['anger'], ['sadness'], ['disgust'], ['shame'], ['guilt'], ['joy'], ['fear'], ['anger'], ['sadness'], ['disgust'], ['shame'], ['guilt'], ['joy'], ['fear'], ['anger'], ['sadness'], ['disgust'], ['shame'], ['guilt'], ['joy'], ['fear'], ['anger'], ['sadness'], ['disgust'], ['shame'], ['guilt'], ['joy'], ['fear'], ['anger'], ['sadness'], ['disgust'], ['shame'], ['guilt'], ['joy'], ['fear'], ['anger'], ['sadness'], ['disgust'], ['shame'], ['guilt'], ['joy'], ['fear'], ['anger'], ['sadness'], ['disgust'], ['shame'], ['guilt'], ['joy'], ['fear'], ['anger'], ['sadness'], ['disgust'], ['shame'], ['guilt'], ['joy'], ['fear'], ['anger'], ['sadness'], ['disgust'], ['shame'], ['guilt'], ['joy'], ['fear'], ['anger'], ['sadness'], ['disgust'], ['shame'], ['guilt'], ['joy'], ['fear'], ['anger'], ['sadness'], ['disgust'], ['shame'], ['guilt'], ['joy'], ['fear'], ['anger'], ['sadness'], ['disgust'], ['shame'], ['guilt'], ['joy'], ['fear'], ['anger'], ['sadness'], ['disgust'], ['shame'], ['guilt'], ['joy'], ['fear'], ['anger'], ['sadness'], ['disgust'], ['shame'], ['guilt'], ['joy'], ['fear'], ['anger'], ['sadness'], ['disgust'], ['shame'], ['guilt'], ['joy'], ['fear'], ['anger'], ['sadness'], ['disgust'], ['shame'], ['guilt'], ['joy'], ['fear'], ['anger'], ['sadness'], ['disgust'], ['shame'], ['guilt'], ['joy'], ['fear'], ['anger'], ['sadness'], ['disgust'], ['shame'], ['guilt'], ['joy'], ['fear'], ['anger'], ['sadness'], ['disgust'], ['shame'], ['guilt'], ['joy'], ['fear'], ['anger'], ['sadness'], ['disgust'], ['shame'], ['guilt'], ['joy'], ['fear'], ['anger'], ['sadness'], ['disgust'], ['shame'], ['guilt'], ['joy'], ['fear'], ['anger'], ['sadness'], ['disgust'], ['shame'], ['guilt'], ['joy'], ['fear'], ['anger'], ['sadness'], ['disgust'], ['shame'], ['guilt'], ['joy'], ['fear'], ['anger'], ['sadness'], ['disgust'], ['shame'], ['guilt'], ['joy'], ['fear'], ['anger'], ['sadness'], ['disgust'], ['shame'], ['guilt'], ['joy'], ['fear'], ['anger'], ['sadness'], ['disgust'], ['shame'], ['guilt'], ['joy'], ['fear'], ['anger'], ['sadness'], ['disgust'], ['shame'], ['guilt'], ['joy'], ['fear'], ['anger'], ['sadness'], ['disgust'], ['shame'], ['guilt'], ['joy'], ['fear'], ['anger'], ['sadness'], ['disgust'], ['shame'], ['guilt'], ['joy'], ['fear'], ['anger'], ['sadness'], ['disgust'], ['shame'], ['guilt'], ['joy'], ['fear'], ['anger'], ['sadness'], ['disgust'], ['shame'], ['guilt'], ['joy'], ['fear'], ['anger'], ['sadness'], ['disgust'], ['shame'], ['guilt'], ['joy'], ['fear'], ['anger'], ['sadness'], ['disgust'], ['shame'], ['guilt'], ['joy'], ['fear'], ['anger'], ['sadness'], ['disgust'], ['shame'], ['guilt'], ['joy'], ['fear'], ['anger'], ['sadness'], ['disgust'], ['shame'], ['guilt'], ['joy'], ['fear'], ['anger'], ['sadness'], ['disgust'], ['shame'], ['guilt'], ['joy'], ['fear'], ['anger'], ['sadness'], ['disgust'], ['shame'], ['guilt'], ['joy'], ['fear'], ['anger'], ['sadness'], ['disgust'], ['shame'], ['guilt'], ['joy'], ['fear'], ['anger'], ['sadness'], ['disgust'], ['shame'], ['guilt'], ['joy'], ['fear'], ['anger'], ['sadness'], ['disgust'], ['shame'], ['guilt'], ['joy'], ['fear'], ['anger'], ['sadness'], ['disgust'], ['shame'], ['guilt'], ['joy'], ['fear'], ['anger'], ['sadness'], ['disgust'], ['shame'], ['guilt'], ['joy'], ['fear'], ['anger'], ['sadness'], ['disgust'], ['shame'], ['guilt'], ['joy'], ['fear'], ['anger'], ['sadness'], ['disgust'], ['shame'], ['guilt'], ['joy'], ['fear'], ['anger'], ['sadness'], ['disgust'], ['shame'], ['guilt'], ['joy'], ['fear'], ['anger'], ['sadness'], ['disgust'], ['shame'], ['guilt'], ['joy'], ['fear'], ['anger'], ['sadness'], ['disgust'], ['shame'], ['guilt'], ['joy'], ['fear'], ['anger'], ['sadness'], ['disgust'], ['shame'], ['guilt'], ['joy'], ['fear'], ['anger'], ['sadness'], ['disgust'], ['shame'], ['guilt'], ['joy'], ['fear'], ['anger'], ['sadness'], ['disgust'], ['shame'], ['guilt'], ['joy'], ['fear'], ['anger'], ['sadness'], ['disgust'], ['shame'], ['guilt'], ['joy'], ['fear'], ['anger'], ['sadness'], ['disgust'], ['shame'], ['guilt'], ['joy'], ['fear'], ['anger'], ['sadness'], ['disgust'], ['shame'], ['guilt'], ['joy'], ['fear'], ['anger'], ['sadness'], ['disgust'], ['shame'], ['guilt'], ['joy'], ['fear'], ['anger'], ['sadness'], ['disgust'], ['shame'], ['guilt'], ['joy'], ['fear'], ['anger'], ['sadness'], ['disgust'], ['shame'], ['guilt'], ['joy'], ['fear'], ['anger'], ['sadness'], ['disgust'], ['shame'], ['guilt'], ['joy'], ['fear'], ['anger'], ['sadness'], ['disgust'], ['shame'], ['guilt'], ['joy'], ['fear'], ['anger'], ['sadness'], ['disgust'], ['shame'], ['guilt'], ['joy'], ['fear'], ['anger'], ['sadness'], ['disgust'], ['shame'], ['guilt'], ['joy'], ['fear'], ['anger'], ['sadness'], ['disgust'], ['shame'], ['guilt'], ['joy'], ['fear'], ['anger'], ['sadness'], ['disgust'], ['shame'], ['guilt'], ['joy'], ['fear'], ['anger'], ['sadness'], ['disgust'], ['shame'], ['guilt'], ['joy'], ['fear'], ['anger'], ['sadness'], ['disgust'], ['shame'], ['guilt'], ['joy'], ['fear'], ['anger'], ['sadness'], ['disgust'], ['shame'], ['guilt'], ['joy'], ['fear'], ['anger'], ['sadness'], ['disgust'], ['shame'], ['guilt'], ['joy'], ['fear'], ['anger'], ['sadness'], ['disgust'], ['shame'], ['guilt'], ['joy'], ['fear'], ['anger'], ['sadness'], ['disgust'], ['shame'], ['guilt'], ['joy'], ['fear'], ['anger'], ['sadness'], ['disgust'], ['shame'], ['guilt'], ['joy'], ['fear'], ['anger'], ['sadness'], ['disgust'], ['shame'], ['guilt'], ['joy'], ['fear'], ['anger'], ['sadness'], ['disgust'], ['shame'], ['guilt'], ['joy'], ['fear'], ['anger'], ['sadness'], ['disgust'], ['shame'], ['guilt'], ['joy'], ['shame'], ['guilt'], ['joy'], ['fear'], ['anger'], ['sadness'], ['disgust'], ['shame'], ['guilt'], ['joy'], ['fear'], ['anger'], ['sadness'], ['disgust'], ['shame'], ['guilt'], ['joy'], ['fear'], ['anger'], ['sadness'], ['disgust'], ['shame'], ['fear'], ['anger'], ['sadness'], ['disgust'], ['shame'], ['guilt'], ['joy'], ['fear'], ['anger'], ['sadness'], ['disgust'], ['joy'], ['fear'], ['anger'], ['sadness'], ['disgust'], ['shame'], ['guilt'], ['joy'], ['fear'], ['anger'], ['sadness'], ['disgust'], ['shame'], ['guilt'], ['joy'], ['fear'], ['anger'], ['sadness'], ['disgust'], ['shame'], ['guilt'], ['joy'], ['anger'], ['sadness'], ['disgust'], ['shame'], ['guilt'], ['joy'], ['fear'], ['anger'], ['sadness'], ['disgust'], ['shame'], ['guilt'], ['joy'], ['fear'], ['anger'], ['sadness'], ['disgust'], ['shame'], ['guilt'], ['joy'], ['fear'], ['anger'], ['sadness'], ['disgust'], ['shame'], ['guilt'], ['joy'], ['fear'], ['anger'], ['sadness'], ['disgust'], ['joy'], ['fear'], ['anger'], ['sadness'], ['disgust'], ['shame'], ['guilt'], ['joy'], ['fear'], ['anger'], ['sadness'], ['guilt'], ['joy'], ['fear'], ['anger'], ['sadness'], ['disgust'], ['shame'], ['guilt'], ['joy'], ['fear'], ['anger'], ['sadness'], ['disgust'], ['shame'], ['guilt'], ['joy'], ['fear'], ['anger'], ['sadness'], ['disgust'], ['shame'], ['guilt'], ['joy'], ['fear'], ['anger'], ['sadness'], ['disgust'], ['shame'], ['guilt'], ['joy'], ['fear'], ['anger'], ['sadness'], ['disgust'], ['shame'], ['guilt'], ['joy'], ['fear'], ['anger'], ['sadness'], ['disgust'], ['shame'], ['guilt'], ['joy'], ['fear'], ['anger'], ['sadness'], ['disgust'], ['shame'], ['guilt'], ['joy'], ['fear'], ['anger'], ['sadness'], ['disgust'], ['shame'], ['guilt'], ['joy'], ['fear'], ['anger'], ['sadness'], ['disgust'], ['shame'], ['guilt'], ['joy'], ['fear'], ['anger'], ['sadness'], ['disgust'], ['shame'], ['guilt'], ['joy'], ['fear'], ['anger'], ['sadness'], ['disgust'], ['shame'], ['guilt'], ['joy'], ['fear'], ['anger'], ['sadness'], ['disgust'], ['shame'], ['guilt'], ['joy'], ['fear'], ['anger'], ['sadness'], ['disgust'], ['shame'], ['guilt'], ['joy'], ['fear'], ['anger'], ['sadness'], ['disgust'], ['shame'], ['guilt'], ['joy'], ['fear'], ['anger'], ['sadness'], ['disgust'], ['shame'], ['guilt'], ['joy'], ['fear'], ['anger'], ['sadness'], ['disgust'], ['shame'], ['guilt'], ['joy'], ['fear'], ['anger'], ['sadness'], ['disgust'], ['shame'], ['guilt'], ['joy'], ['fear'], ['anger'], ['sadness'], ['disgust'], ['shame'], ['guilt'], ['joy'], ['fear'], ['anger'], ['sadness'], ['disgust'], ['shame'], ['guilt'], ['joy'], ['fear'], ['anger'], ['sadness'], ['disgust'], ['shame'], ['guilt'], ['joy'], ['fear'], ['anger'], ['sadness'], ['disgust'], ['shame'], ['guilt'], ['joy'], ['fear'], ['anger'], ['sadness'], ['disgust'], ['shame'], ['joy'], ['fear'], ['anger'], ['sadness'], ['disgust'], ['shame'], ['guilt'], ['joy'], ['fear'], ['anger'], ['sadness'], ['joy'], ['fear'], ['anger'], ['sadness'], ['disgust'], ['shame'], ['guilt'], ['joy'], ['fear'], ['anger'], ['sadness'], ['disgust'], ['joy'], ['fear'], ['anger'], ['sadness'], ['disgust'], ['shame'], ['guilt'], ['shame'], ['guilt'], ['joy'], ['fear'], ['anger'], ['sadness'], ['disgust'], ['shame'], ['guilt'], ['joy'], ['fear'], ['anger'], ['sadness'], ['disgust'], ['shame'], ['guilt'], ['joy'], ['fear'], ['anger'], ['sadness'], ['disgust'], ['shame'], ['guilt'], ['joy'], ['fear'], ['anger'], ['sadness'], ['disgust'], ['shame'], ['guilt'], ['joy'], ['fear'], ['anger'], ['sadness'], ['disgust'], ['shame'], ['guilt'], ['joy'], ['fear'], ['anger'], ['sadness'], ['disgust'], ['shame'], ['guilt'], ['joy'], ['fear'], ['anger'], ['sadness'], ['disgust'], ['shame'], ['guilt'], ['joy'], ['fear'], ['anger'], ['sadness'], ['disgust'], ['shame'], ['guilt'], ['joy'], ['fear'], ['anger'], ['sadness'], ['disgust'], ['shame'], ['guilt'], ['joy'], ['shame'], ['guilt'], ['joy'], ['fear'], ['anger'], ['sadness'], ['disgust'], ['shame'], ['guilt'], ['joy'], ['fear'], ['anger'], ['sadness'], ['disgust'], ['shame'], ['guilt'], ['joy'], ['fear'], ['anger'], ['sadness'], ['disgust'], ['shame'], ['guilt'], ['joy'], ['fear'], ['anger'], ['sadness'], ['disgust'], ['shame'], ['joy'], ['fear'], ['anger'], ['sadness'], ['disgust'], ['shame'], ['guilt'], ['joy'], ['fear'], ['anger'], ['sadness'], ['disgust'], ['shame'], ['guilt'], ['joy'], ['fear'], ['anger'], ['sadness'], ['disgust'], ['shame'], ['guilt'], ['joy'], ['fear'], ['anger'], ['sadness'], ['disgust'], ['shame'], ['guilt'], ['joy'], ['fear'], ['anger'], ['sadness'], ['disgust'], ['shame'], ['guilt'], ['joy'], ['fear'], ['anger'], ['sadness'], ['disgust'], ['shame'], ['guilt'], ['joy'], ['fear'], ['anger'], ['sadness'], ['disgust'], ['shame'], ['guilt'], ['joy'], ['fear'], ['anger'], ['sadness'], ['disgust'], ['shame'], ['guilt'], ['joy'], ['fear'], ['anger'], ['sadness'], ['disgust'], ['shame'], ['guilt'], ['joy'], ['fear'], ['anger'], ['sadness'], ['disgust'], ['shame'], ['guilt'], ['joy'], ['fear'], ['anger'], ['sadness'], ['disgust'], ['shame'], ['guilt'], ['joy'], ['fear'], ['anger'], ['sadness'], ['disgust'], ['shame'], ['guilt'], ['joy'], ['fear'], ['anger'], ['sadness'], ['disgust'], ['shame'], ['guilt'], ['joy'], ['fear'], ['anger'], ['sadness'], ['disgust'], ['shame'], ['guilt'], ['joy'], ['fear'], ['anger'], ['sadness'], ['disgust'], ['shame'], ['guilt'], ['joy'], ['fear'], ['anger'], ['sadness'], ['disgust'], ['shame'], ['guilt'], ['joy'], ['fear'], ['anger'], ['sadness'], ['disgust'], ['shame'], ['guilt'], ['joy'], ['fear'], ['anger'], ['sadness'], ['disgust'], ['shame'], ['guilt'], ['joy'], ['fear'], ['anger'], ['sadness'], ['disgust'], ['shame'], ['guilt'], ['joy'], ['fear'], ['anger'], ['sadness'], ['disgust'], ['shame'], ['guilt'], ['joy'], ['fear'], ['anger'], ['sadness'], ['disgust'], ['shame'], ['guilt'], ['joy'], ['fear'], ['anger'], ['sadness'], ['disgust'], ['shame'], ['guilt'], ['joy'], ['fear'], ['anger'], ['sadness'], ['disgust'], ['shame'], ['guilt'], ['joy'], ['fear'], ['anger'], ['sadness'], ['disgust'], ['shame'], ['guilt'], ['joy'], ['fear'], ['anger'], ['sadness'], ['disgust'], ['shame'], ['guilt'], ['joy'], ['fear'], ['anger'], ['sadness'], ['disgust'], ['shame'], ['guilt'], ['joy'], ['fear'], ['anger'], ['sadness'], ['disgust'], ['shame'], ['guilt'], ['joy'], ['fear'], ['anger'], ['sadness'], ['disgust'], ['shame'], ['guilt'], ['joy'], ['fear'], ['anger'], ['sadness'], ['disgust'], ['shame'], ['guilt'], ['joy'], ['fear'], ['anger'], ['sadness'], ['disgust'], ['shame'], ['guilt'], ['joy'], ['fear'], ['anger'], ['sadness'], ['disgust'], ['shame'], ['guilt'], ['joy'], ['fear'], ['anger'], ['sadness'], ['disgust'], ['shame'], ['guilt'], ['fear'], ['anger'], ['sadness'], ['disgust'], ['shame'], ['guilt'], ['joy'], ['fear'], ['anger'], ['sadness'], ['disgust'], ['shame'], ['guilt'], ['joy'], ['fear'], ['anger'], ['sadness'], ['disgust'], ['shame'], ['guilt'], ['joy'], ['fear'], ['anger'], ['sadness'], ['disgust'], ['shame'], ['guilt'], ['joy'], ['fear'], ['anger'], ['sadness'], ['disgust'], ['shame'], ['guilt'], ['joy'], ['fear'], ['anger'], ['sadness'], ['disgust'], ['shame'], ['guilt'], ['joy'], ['fear'], ['anger'], ['sadness'], ['disgust'], ['shame'], ['guilt'], ['joy'], ['fear'], ['anger'], ['sadness'], ['disgust'], ['shame'], ['guilt'], ['joy'], ['fear'], ['anger'], ['sadness'], ['disgust'], ['shame'], ['guilt'], ['joy'], ['fear'], ['anger'], ['sadness'], ['disgust'], ['shame'], ['guilt'], ['joy'], ['fear'], ['anger'], ['sadness'], ['disgust'], ['shame'], ['guilt'], ['joy'], ['fear'], ['anger'], ['sadness'], ['disgust'], ['shame'], ['guilt'], ['joy'], ['fear'], ['anger'], ['sadness'], ['disgust'], ['shame'], ['guilt'], ['joy'], ['fear'], ['anger'], ['sadness'], ['disgust'], ['shame'], ['guilt'], ['joy'], ['fear'], ['anger'], ['sadness'], ['disgust'], ['shame'], ['guilt'], ['joy'], ['fear'], ['anger'], ['sadness'], ['disgust'], ['shame'], ['guilt'], ['joy'], ['fear'], ['anger'], ['sadness'], ['disgust'], ['shame'], ['guilt'], ['joy'], ['fear'], ['anger'], ['sadness'], ['disgust'], ['shame'], ['guilt'], ['joy'], ['fear'], ['anger'], ['sadness'], ['disgust'], ['shame'], ['guilt'], ['joy'], ['fear'], ['anger'], ['sadness'], ['disgust'], ['shame'], ['guilt'], ['joy'], ['fear'], ['anger'], ['sadness'], ['disgust'], ['shame'], ['guilt'], ['joy'], ['fear'], ['anger'], ['sadness'], ['disgust'], ['shame'], ['guilt'], ['joy'], ['fear'], ['anger'], ['sadness'], ['disgust'], ['shame'], ['guilt'], ['joy'], ['fear'], ['anger'], ['sadness'], ['disgust'], ['joy'], ['fear'], ['anger'], ['sadness'], ['disgust'], ['shame'], ['guilt'], ['joy'], ['fear'], ['anger'], ['sadness'], ['disgust'], ['joy'], ['fear'], ['anger'], ['sadness'], ['disgust'], ['shame'], ['joy'], ['fear'], ['anger'], ['sadness'], ['disgust'], ['shame'], ['guilt'], ['joy'], ['fear'], ['anger'], ['sadness'], ['disgust'], ['shame'], ['guilt'], ['joy'], ['fear'], ['anger'], ['sadness'], ['disgust'], ['shame'], ['guilt'], ['joy'], ['fear'], ['anger'], ['sadness'], ['disgust'], ['shame'], ['guilt'], ['joy'], ['fear'], ['anger'], ['sadness'], ['disgust'], ['shame'], ['guilt'], ['joy'], ['fear'], ['anger'], ['sadness'], ['disgust'], ['shame'], ['guilt'], ['joy'], ['fear'], ['sadness'], ['disgust'], ['shame'], ['guilt'], ['joy'], ['fear'], ['anger'], ['sadness'], ['disgust'], ['shame'], ['guilt'], ['joy'], ['fear'], ['anger'], ['sadness'], ['disgust'], ['shame'], ['guilt'], ['joy'], ['fear'], ['anger'], ['sadness'], ['disgust'], ['shame'], ['guilt'], ['joy'], ['anger'], ['sadness'], ['disgust'], ['shame'], ['joy'], ['fear'], ['anger'], ['sadness'], ['disgust'], ['shame'], ['guilt'], ['joy'], ['fear'], ['anger'], ['sadness'], ['disgust'], ['shame'], ['guilt'], ['joy'], ['fear'], ['anger'], ['sadness'], ['disgust'], ['shame'], ['guilt'], ['joy'], ['fear'], ['anger'], ['sadness'], ['disgust'], ['shame'], ['guilt'], ['joy'], ['anger'], ['sadness'], ['disgust'], ['guilt'], ['joy'], ['fear'], ['anger'], ['sadness'], ['disgust'], ['shame'], ['guilt'], ['joy'], ['fear'], ['anger'], ['sadness'], ['disgust'], ['shame'], ['guilt'], ['joy'], ['fear'], ['anger'], ['sadness'], ['disgust'], ['shame'], ['guilt'], ['joy'], ['fear'], ['anger'], ['sadness'], ['disgust'], ['shame'], ['guilt'], ['sadness'], ['guilt'], ['joy'], ['fear'], ['anger'], ['sadness'], ['disgust'], ['shame'], ['joy'], ['fear'], ['anger'], ['sadness'], ['disgust'], ['shame'], ['guilt'], ['joy'], ['fear'], ['anger'], ['sadness'], ['guilt'], ['joy'], ['fear'], ['anger'], ['sadness'], ['disgust'], ['shame'], ['guilt'], ['joy'], ['fear'], ['anger'], ['sadness'], ['disgust'], ['shame'], ['guilt'], ['joy'], ['fear'], ['anger'], ['sadness'], ['disgust'], ['shame'], ['guilt'], ['joy'], ['fear'], ['anger'], ['sadness'], ['disgust'], ['shame'], ['guilt'], ['joy'], ['fear'], ['anger'], ['sadness'], ['disgust'], ['shame'], ['guilt'], ['joy'], ['fear'], ['anger'], ['sadness'], ['disgust'], ['joy'], ['fear'], ['anger'], ['sadness'], ['disgust'], ['shame'], ['guilt'], ['joy'], ['fear'], ['anger'], ['sadness'], ['disgust'], ['shame'], ['guilt'], ['joy'], ['fear'], ['anger'], ['sadness'], ['disgust'], ['shame'], ['guilt'], ['joy'], ['fear'], ['anger'], ['sadness'], ['disgust'], ['shame'], ['guilt'], ['joy'], ['anger'], ['sadness'], ['joy'], ['fear'], ['anger'], ['sadness'], ['disgust'], ['shame'], ['guilt'], ['joy'], ['fear'], ['anger'], ['sadness'], ['shame'], ['guilt'], ['joy'], ['fear'], ['anger'], ['sadness'], ['disgust'], ['shame'], ['guilt'], ['joy'], ['fear'], ['anger'], ['disgust'], ['shame'], ['joy'], ['fear'], ['anger'], ['disgust'], ['shame'], ['guilt'], ['joy'], ['sadness'], ['joy'], ['guilt'], ['joy'], ['fear'], ['anger'], ['sadness'], ['disgust'], ['shame'], ['guilt'], ['joy'], ['fear'], ['anger'], ['sadness'], ['disgust'], ['shame'], ['guilt'], ['joy'], ['fear'], ['anger'], ['sadness'], ['disgust'], ['shame'], ['guilt'], ['fear'], ['anger'], ['sadness'], ['disgust'], ['shame'], ['guilt'], ['joy'], ['fear'], ['anger'], ['sadness'], ['disgust'], ['disgust'], ['shame'], ['guilt'], ['joy'], ['fear'], ['anger'], ['sadness'], ['disgust'], ['shame'], ['guilt'], ['joy'], ['fear'], ['anger'], ['sadness'], ['disgust'], ['shame'], ['guilt'], ['joy'], ['fear'], ['anger'], ['sadness'], ['disgust'], ['shame'], ['guilt'], ['joy'], ['fear'], ['anger'], ['sadness'], ['disgust'], ['shame'], ['guilt'], ['joy'], ['fear'], ['anger'], ['sadness'], ['disgust'], ['shame'], ['guilt'], ['joy'], ['fear'], ['anger'], ['sadness'], ['disgust'], ['shame'], ['fear'], ['anger'], ['sadness'], ['disgust'], ['shame'], ['guilt'], ['joy'], ['fear'], ['anger'], ['sadness'], ['shame'], ['guilt'], ['joy'], ['fear'], ['anger'], ['sadness'], ['disgust'], ['shame'], ['guilt'], ['joy'], ['fear'], ['anger'], ['sadness'], ['disgust'], ['shame'], ['guilt'], ['joy'], ['fear'], ['anger'], ['sadness'], ['joy'], ['fear'], ['anger'], ['sadness'], ['disgust'], ['shame'], ['guilt'], ['joy'], ['fear'], ['anger'], ['sadness'], ['disgust'], ['shame'], ['guilt'], ['joy'], ['fear'], ['anger'], ['sadness'], ['disgust'], ['shame'], ['guilt'], ['joy'], ['fear'], ['anger'], ['disgust'], ['shame'], ['joy'], ['fear'], ['anger'], ['sadness'], ['disgust'], ['joy'], ['fear'], ['anger'], ['sadness'], ['joy'], ['fear'], ['anger'], ['sadness'], ['disgust'], ['shame'], ['guilt'], ['joy'], ['fear'], ['anger'], ['sadness'], ['disgust'], ['shame'], ['guilt'], ['joy'], ['fear'], ['anger'], ['sadness'], ['disgust'], ['shame'], ['guilt'], ['joy'], ['fear'], ['anger'], ['sadness'], ['disgust'], ['shame'], ['guilt'], ['joy'], ['fear'], ['anger'], ['sadness'], ['disgust'], ['shame'], ['guilt'], ['joy'], ['fear'], ['anger'], ['sadness'], ['disgust'], ['shame'], ['guilt'], ['joy'], ['fear'], ['anger'], ['sadness'], ['disgust'], ['shame'], ['guilt'], ['joy'], ['fear'], ['anger'], ['sadness'], ['disgust'], ['shame'], ['guilt'], ['joy'], ['fear'], ['anger'], ['sadness'], ['disgust'], ['shame'], ['guilt'], ['joy'], ['fear'], ['anger'], ['sadness'], ['disgust'], ['shame'], ['guilt'], ['joy'], ['fear'], ['anger'], ['sadness'], ['disgust'], ['shame'], ['guilt'], ['joy'], ['fear'], ['anger'], ['sadness'], ['disgust'], ['shame'], ['guilt'], ['joy'], ['fear'], ['anger'], ['sadness'], ['disgust'], ['shame'], ['guilt'], ['joy'], ['fear'], ['anger'], ['sadness'], ['disgust'], ['shame'], ['guilt'], ['joy'], ['fear'], ['anger'], ['sadness'], ['disgust'], ['shame'], ['guilt'], ['joy'], ['fear'], ['anger'], ['sadness'], ['disgust'], ['shame'], ['joy'], ['fear'], ['anger'], ['sadness'], ['disgust'], ['shame'], ['guilt'], ['joy'], ['fear'], ['anger'], ['sadness'], ['disgust'], ['shame'], ['guilt'], ['joy'], ['fear'], ['anger'], ['sadness'], ['disgust'], ['shame'], ['guilt'], ['joy'], ['fear'], ['anger'], ['sadness'], ['disgust'], ['shame'], ['joy'], ['fear'], ['anger'], ['sadness'], ['disgust'], ['shame'], ['guilt'], ['joy'], ['fear'], ['anger'], ['sadness'], ['disgust'], ['shame'], ['guilt'], ['joy'], ['fear'], ['anger'], ['sadness'], ['disgust'], ['shame'], ['guilt'], ['joy'], ['fear'], ['anger'], ['sadness'], ['disgust'], ['shame'], ['guilt'], ['joy'], ['fear'], ['anger'], ['sadness'], ['disgust'], ['shame'], ['guilt'], ['joy'], ['fear'], ['anger'], ['sadness'], ['disgust'], ['shame'], ['guilt'], ['joy'], ['fear'], ['anger'], ['sadness'], ['disgust'], ['shame'], ['guilt'], ['joy'], ['fear'], ['anger'], ['sadness'], ['disgust'], ['shame'], ['guilt'], ['joy'], ['fear'], ['anger'], ['sadness'], ['disgust'], ['shame'], ['guilt'], ['joy'], ['fear'], ['anger'], ['sadness'], ['disgust'], ['shame'], ['guilt'], ['joy'], ['fear'], ['anger'], ['sadness'], ['disgust'], ['shame'], ['guilt'], ['joy'], ['fear'], ['anger'], ['sadness'], ['disgust'], ['shame'], ['guilt'], ['joy'], ['fear'], ['anger'], ['sadness'], ['disgust'], ['shame'], ['guilt'], ['joy'], ['fear'], ['anger'], ['sadness'], ['disgust'], ['shame'], ['guilt'], ['joy'], ['fear'], ['anger'], ['sadness'], ['disgust'], ['shame'], ['guilt'], ['joy'], ['fear'], ['anger'], ['sadness'], ['disgust'], ['shame'], ['guilt'], ['joy'], ['fear'], ['anger'], ['sadness'], ['disgust'], ['shame'], ['guilt'], ['joy'], ['fear'], ['anger'], ['sadness'], ['disgust'], ['shame'], ['guilt'], ['joy'], ['fear'], ['anger'], ['sadness'], ['disgust'], ['shame'], ['joy'], ['fear'], ['anger'], ['sadness'], ['disgust'], ['shame'], ['guilt'], ['joy'], ['fear'], ['anger'], ['sadness'], ['disgust'], ['shame'], ['guilt'], ['joy'], ['fear'], ['anger'], ['sadness'], ['disgust'], ['shame'], ['guilt'], ['joy'], ['fear'], ['anger'], ['sadness'], ['disgust'], ['shame'], ['guilt'], ['joy'], ['fear'], ['anger'], ['sadness'], ['disgust'], ['shame'], ['guilt'], ['joy'], ['fear'], ['anger'], ['sadness'], ['disgust'], ['shame'], ['guilt'], ['joy'], ['fear'], ['anger'], ['sadness'], ['disgust'], ['shame'], ['guilt'], ['joy'], ['fear'], ['anger'], ['sadness'], ['disgust'], ['shame'], ['guilt'], ['joy'], ['fear'], ['anger'], ['sadness'], ['disgust'], ['shame'], ['guilt'], ['joy'], ['fear'], ['anger'], ['sadness'], ['disgust'], ['shame'], ['guilt'], ['joy'], ['fear'], ['anger'], ['sadness'], ['disgust'], ['shame'], ['guilt'], ['joy'], ['fear'], ['anger'], ['sadness'], ['disgust'], ['shame'], ['guilt'], ['joy'], ['fear'], ['anger'], ['sadness'], ['disgust'], ['shame'], ['guilt'], ['joy'], ['shame'], ['guilt'], ['joy'], ['fear'], ['anger'], ['sadness'], ['disgust'], ['shame'], ['guilt'], ['joy'], ['fear'], ['anger'], ['sadness'], ['disgust'], ['shame'], ['guilt'], ['joy'], ['fear'], ['anger'], ['sadness'], ['disgust'], ['shame'], ['guilt'], ['joy'], ['fear'], ['anger'], ['sadness'], ['disgust'], ['shame'], ['guilt'], ['joy'], ['fear'], ['anger'], ['sadness'], ['disgust'], ['shame'], ['guilt'], ['joy'], ['fear'], ['anger'], ['sadness'], ['disgust'], ['shame'], ['guilt'], ['joy'], ['fear'], ['anger'], ['sadness'], ['disgust'], ['shame'], ['guilt'], ['joy'], ['fear'], ['anger'], ['sadness'], ['disgust'], ['shame'], ['guilt'], ['joy'], ['fear'], ['anger'], ['sadness'], ['disgust'], ['shame'], ['guilt'], ['joy'], ['fear'], ['anger'], ['sadness'], ['disgust'], ['shame'], ['guilt'], ['joy'], ['fear'], ['anger'], ['sadness'], ['disgust'], ['shame'], ['guilt'], ['joy'], ['fear'], ['anger'], ['sadness'], ['disgust'], ['shame'], ['guilt'], ['joy'], ['fear'], ['anger'], ['sadness'], ['disgust'], ['shame'], ['guilt'], ['joy'], ['fear'], ['anger'], ['sadness'], ['disgust'], ['shame'], ['guilt'], ['joy'], ['fear'], ['anger'], ['sadness'], ['disgust'], ['shame'], ['guilt'], ['joy'], ['fear'], ['anger'], ['sadness'], ['disgust'], ['shame'], ['guilt'], ['joy'], ['fear'], ['anger'], ['sadness'], ['disgust'], ['shame'], ['guilt'], ['joy'], ['fear'], ['anger'], ['sadness'], ['disgust'], ['shame'], ['guilt'], ['joy'], ['fear'], ['anger'], ['sadness'], ['disgust'], ['shame'], ['guilt'], ['joy'], ['fear'], ['anger'], ['sadness'], ['disgust'], ['shame'], ['guilt'], ['joy'], ['fear'], ['anger'], ['sadness'], ['disgust'], ['shame'], ['guilt'], ['joy'], ['fear'], ['anger'], ['sadness'], ['disgust'], ['shame'], ['guilt'], ['joy'], ['fear'], ['anger'], ['sadness'], ['disgust'], ['shame'], ['guilt'], ['joy'], ['fear'], ['anger'], ['sadness'], ['disgust'], ['shame'], ['guilt'], ['joy'], ['fear'], ['anger'], ['sadness'], ['disgust'], ['shame'], ['guilt'], ['joy'], ['fear'], ['anger'], ['sadness'], ['disgust'], ['shame'], ['guilt'], ['joy'], ['fear'], ['disgust'], ['sadness'], ['disgust'], ['shame'], ['guilt'], ['joy'], ['fear'], ['guilt'], ['sadness'], ['shame'], ['shame'], ['joy'], ['joy'], ['fear'], ['sadness'], ['sadness'], ['disgust'], ['anger'], ['sadness'], ['joy'], ['fear'], ['anger'], ['sadness'], ['disgust'], ['anger'], ['guilt'], ['joy'], ['fear'], ['anger'], ['sadness'], ['anger'], ['disgust'], ['anger'], ['anger'], ['fear'], ['shame'], ['sadness'], ['anger'], ['shame'], ['anger'], ['joy'], ['sadness'], ['anger'], ['sadness'], ['disgust'], ['guilt'], ['joy'], ['fear'], ['shame'], ['sadness'], ['disgust'], ['shame'], ['guilt'], ['joy'], ['fear'], ['sadness'], ['disgust'], ['disgust'], ['sadness'], ['guilt'], ['joy'], ['sadness'], ['anger'], ['sadness'], ['sadness'], ['shame'], ['guilt'], ['sadness'], ['disgust'], ['sadness'], ['shame'], ['joy'], ['fear'], ['sadness'], ['sadness'], ['disgust'], ['sadness'], ['sadness'], ['joy'], ['fear'], ['disgust'], ['sadness'], ['disgust'], ['joy'], ['guilt'], ['joy'], ['disgust'], ['shame'], ['sadness'], ['disgust'], ['shame'], ['shame'], ['joy'], ['fear'], ['guilt'], ['sadness'], ['shame'], ['shame'], ['shame'], ['joy'], ['joy'], ['anger'], ['shame'], ['disgust'], ['guilt'], ['guilt'], ['joy'], ['fear'], ['anger'], ['sadness'], ['disgust'], ['shame'], ['disgust'], ['joy'], ['fear'], ['anger'], ['shame'], ['anger'], ['guilt'], ['shame'], ['joy'], ['fear'], ['anger'], ['sadness'], ['disgust'], ['sadness'], ['guilt'], ['joy'], ['fear'], ['disgust'], ['sadness'], ['disgust'], ['shame'], ['joy'], ['sadness'], ['anger'], ['sadness'], ['disgust'], ['shame'], ['sadness'], ['joy'], ['joy'], ['guilt'], ['anger'], ['shame'], ['anger'], ['guilt'], ['joy'], ['fear'], ['shame'], ['sadness'], ['disgust'], ['disgust'], ['guilt'], ['joy'], ['shame'], ['anger'], ['sadness'], ['disgust'], ['shame'], ['guilt'], ['joy'], ['sadness'], ['shame'], ['anger'], ['disgust'], ['shame'], ['shame'], ['joy'], ['fear'], ['guilt'], ['shame'], ['disgust'], ['shame'], ['shame'], ['joy'], ['fear'], ['anger'], ['sadness'], ['disgust'], ['anger'], ['guilt'], ['joy'], ['fear'], ['shame'], ['shame'], ['disgust'], ['shame'], ['guilt'], ['joy'], ['fear'], ['shame'], ['sadness'], ['shame'], ['disgust'], ['anger'], ['joy'], ['joy'], ['shame'], ['sadness'], ['disgust'], ['shame'], ['guilt'], ['joy'], ['fear'], ['anger'], ['sadness'], ['disgust'], ['shame'], ['guilt'], ['joy'], ['fear'], ['anger'], ['sadness'], ['disgust'], ['shame'], ['guilt'], ['joy'], ['fear'], ['disgust'], ['disgust'], ['anger'], ['anger'], ['anger'], ['joy'], ['fear'], ['anger'], ['shame'], ['shame'], ['shame'], ['fear'], ['joy'], ['joy'], ['anger'], ['sadness'], ['disgust'], ['shame'], ['disgust'], ['joy'], ['anger'], ['anger'], ['shame'], ['sadness'], ['shame'], ['shame'], ['joy'], ['fear'], ['shame'], ['sadness'], ['disgust'], ['shame'], ['guilt'], ['joy'], ['fear'], ['anger'], ['sadness'], ['disgust'], ['shame'], ['guilt'], ['joy'], ['fear'], ['anger'], ['sadness'], ['disgust'], ['shame'], ['guilt'], ['joy'], ['fear'], ['anger'], ['sadness'], ['disgust'], ['shame'], ['guilt'], ['joy'], ['fear'], ['anger'], ['sadness'], ['disgust'], ['shame'], ['guilt'], ['joy'], ['fear'], ['anger'], ['sadness'], ['disgust'], ['shame'], ['guilt'], ['joy'], ['fear'], ['anger'], ['sadness'], ['disgust'], ['shame'], ['guilt'], ['joy'], ['fear'], ['anger'], ['sadness'], ['disgust'], ['shame'], ['guilt'], ['joy'], ['fear'], ['anger'], ['sadness'], ['disgust'], ['shame'], ['guilt'], ['joy'], ['fear'], ['anger'], ['sadness'], ['disgust'], ['shame'], ['guilt'], ['joy'], ['fear'], ['anger'], ['sadness'], ['disgust'], ['shame'], ['guilt'], ['joy'], ['fear'], ['anger'], ['sadness'], ['disgust'], ['shame'], ['guilt'], ['joy'], ['fear'], ['anger'], ['sadness'], ['disgust'], ['shame'], ['guilt'], ['joy'], ['fear'], ['anger'], ['sadness'], ['disgust'], ['shame'], ['guilt'], ['joy'], ['fear'], ['anger'], ['sadness'], ['disgust'], ['shame'], ['guilt'], ['joy'], ['fear'], ['anger'], ['guilt'], ['joy'], ['fear'], ['anger'], ['sadness'], ['disgust'], ['shame'], ['guilt'], ['joy'], ['fear'], ['anger'], ['sadness'], ['disgust'], ['shame'], ['guilt'], ['joy'], ['fear'], ['anger'], ['sadness'], ['disgust'], ['shame'], ['guilt'], ['joy'], ['fear'], ['anger'], ['sadness'], ['disgust'], ['shame'], ['guilt'], ['joy'], ['fear'], ['anger'], ['sadness'], ['disgust'], ['shame'], ['guilt'], ['joy'], ['fear'], ['anger'], ['sadness'], ['disgust'], ['shame'], ['guilt'], ['joy'], ['fear'], ['anger'], ['sadness'], ['disgust'], ['shame'], ['guilt'], ['joy'], ['fear'], ['anger'], ['sadness'], ['disgust'], ['shame'], ['guilt'], ['joy'], ['fear'], ['anger'], ['sadness'], ['disgust'], ['shame'], ['guilt'], ['joy'], ['fear'], ['anger'], ['sadness'], ['disgust'], ['shame'], ['guilt'], ['joy'], ['fear'], ['anger'], ['sadness'], ['disgust'], ['shame'], ['guilt'], ['joy'], ['fear'], ['anger'], ['sadness'], ['disgust'], ['shame'], ['guilt'], ['joy'], ['fear'], ['anger'], ['sadness'], ['disgust'], ['shame'], ['guilt'], ['fear'], ['disgust'], ['fear'], ['sadness'], ['disgust'], ['shame'], ['guilt'], ['joy'], ['fear'], ['anger'], ['sadness'], ['disgust'], ['shame'], ['guilt'], ['joy'], ['fear'], ['anger'], ['sadness'], ['disgust'], ['shame'], ['guilt'], ['joy'], ['fear'], ['anger'], ['sadness'], ['disgust'], ['shame'], ['guilt'], ['joy'], ['fear'], ['anger'], ['sadness'], ['disgust'], ['shame'], ['guilt'], ['joy'], ['fear'], ['anger'], ['sadness'], ['disgust'], ['shame'], ['guilt'], ['joy'], ['fear'], ['sadness'], ['disgust'], ['shame'], ['guilt'], ['joy'], ['fear'], ['anger'], ['sadness'], ['disgust'], ['shame'], ['guilt'], ['joy'], ['fear'], ['anger'], ['sadness'], ['disgust'], ['shame'], ['guilt'], ['joy'], ['fear'], ['anger'], ['sadness'], ['disgust'], ['shame'], ['guilt'], ['joy'], ['fear'], ['anger'], ['sadness'], ['disgust'], ['shame'], ['guilt'], ['joy'], ['fear'], ['anger'], ['sadness'], ['disgust'], ['shame'], ['guilt'], ['joy'], ['fear'], ['anger'], ['sadness'], ['disgust'], ['shame'], ['guilt'], ['joy'], ['fear'], ['anger'], ['sadness'], ['disgust'], ['shame'], ['guilt'], ['joy'], ['fear'], ['anger'], ['sadness'], ['disgust'], ['shame'], ['guilt'], ['joy'], ['fear'], ['anger'], ['sadness'], ['disgust'], ['shame'], ['guilt'], ['joy'], ['fear'], ['anger'], ['sadness'], ['disgust'], ['shame'], ['guilt'], ['joy'], ['fear'], ['anger'], ['sadness'], ['disgust'], ['shame'], ['guilt'], ['joy'], ['fear'], ['anger'], ['sadness'], ['disgust'], ['shame'], ['guilt'], ['joy'], ['fear'], ['anger'], ['sadness'], ['disgust'], ['shame'], ['guilt'], ['joy'], ['fear'], ['anger'], ['sadness'], ['disgust'], ['shame'], ['guilt'], ['joy'], ['fear'], ['anger'], ['sadness'], ['disgust'], ['shame'], ['guilt'], ['joy'], ['fear'], ['anger'], ['sadness'], ['disgust'], ['shame'], ['guilt'], ['joy'], ['fear'], ['anger'], ['sadness'], ['disgust'], ['shame'], ['guilt'], ['joy'], ['fear'], ['anger'], ['sadness'], ['disgust'], ['shame'], ['guilt'], ['joy'], ['fear'], ['anger'], ['sadness'], ['disgust'], ['shame'], ['guilt'], ['joy'], ['fear'], ['anger'], ['sadness'], ['disgust'], ['shame'], ['guilt'], ['joy'], ['fear'], ['anger'], ['sadness'], ['disgust'], ['shame'], ['guilt'], ['joy'], ['fear'], ['anger'], ['sadness'], ['disgust'], ['shame'], ['guilt'], ['joy'], ['fear'], ['anger'], ['sadness'], ['disgust'], ['shame'], ['guilt'], ['joy'], ['anger'], ['disgust'], ['shame'], ['guilt'], ['joy'], ['fear'], ['anger'], ['sadness'], ['disgust'], ['shame'], ['guilt'], ['joy'], ['fear'], ['anger'], ['sadness'], ['disgust'], ['shame'], ['guilt'], ['joy'], ['fear'], ['anger'], ['sadness'], ['disgust'], ['shame'], ['guilt'], ['joy'], ['fear'], ['anger'], ['sadness'], ['disgust'], ['shame'], ['guilt'], ['joy'], ['fear'], ['anger'], ['sadness'], ['disgust'], ['shame'], ['guilt'], ['joy'], ['fear'], ['anger'], ['sadness'], ['disgust'], ['shame'], ['guilt'], ['joy'], ['fear'], ['anger'], ['sadness'], ['disgust'], ['shame'], ['guilt'], ['joy'], ['fear'], ['anger'], ['sadness'], ['disgust'], ['shame'], ['guilt'], ['joy'], ['fear'], ['anger'], ['sadness'], ['disgust'], ['shame'], ['guilt'], ['joy'], ['fear'], ['anger'], ['sadness'], ['disgust'], ['shame'], ['guilt'], ['joy'], ['fear'], ['anger'], ['sadness'], ['guit'], ['shame'], ['guilt'], ['joy'], ['fear'], ['anger'], ['fear'], ['anger'], ['shame'], ['shame'], ['joy'], ['fear'], ['shame'], ['shame'], ['fear'], ['guilt'], ['fear']]\n"
          ]
        }
      ]
    },
    {
      "cell_type": "code",
      "execution_count": null,
      "metadata": {
        "id": "VwIW4n7rWLZP",
        "colab": {
          "base_uri": "https://localhost:8080/",
          "height": 328
        },
        "outputId": "45f307c3-6d88-4194-e48c-c8a99896aa76"
      },
      "outputs": [
        {
          "output_type": "error",
          "ename": "ValueError",
          "evalue": "ignored",
          "traceback": [
            "\u001b[0;31m---------------------------------------------------------------------------\u001b[0m",
            "\u001b[0;31mValueError\u001b[0m                                Traceback (most recent call last)",
            "\u001b[0;32m<ipython-input-24-ddca4cb9abd1>\u001b[0m in \u001b[0;36m<cell line: 2>\u001b[0;34m()\u001b[0m\n\u001b[1;32m      1\u001b[0m \u001b[0;31m# train test split\u001b[0m\u001b[0;34m\u001b[0m\u001b[0;34m\u001b[0m\u001b[0m\n\u001b[0;32m----> 2\u001b[0;31m \u001b[0mX_train\u001b[0m\u001b[0;34m,\u001b[0m\u001b[0mX_test\u001b[0m\u001b[0;34m,\u001b[0m\u001b[0my_train\u001b[0m\u001b[0;34m,\u001b[0m\u001b[0my_test\u001b[0m \u001b[0;34m=\u001b[0m \u001b[0mtrain_test_split\u001b[0m\u001b[0;34m(\u001b[0m\u001b[0mX_vec\u001b[0m\u001b[0;34m,\u001b[0m\u001b[0mY_vec\u001b[0m\u001b[0;34m,\u001b[0m\u001b[0mtest_size\u001b[0m\u001b[0;34m=\u001b[0m\u001b[0;36m0.3\u001b[0m\u001b[0;34m,\u001b[0m\u001b[0mstratify\u001b[0m \u001b[0;34m=\u001b[0m\u001b[0mlabels\u001b[0m\u001b[0;34m)\u001b[0m\u001b[0;34m\u001b[0m\u001b[0;34m\u001b[0m\u001b[0m\n\u001b[0m",
            "\u001b[0;32m/usr/local/lib/python3.10/dist-packages/sklearn/model_selection/_split.py\u001b[0m in \u001b[0;36mtrain_test_split\u001b[0;34m(test_size, train_size, random_state, shuffle, stratify, *arrays)\u001b[0m\n\u001b[1;32m   2581\u001b[0m         \u001b[0mcv\u001b[0m \u001b[0;34m=\u001b[0m \u001b[0mCVClass\u001b[0m\u001b[0;34m(\u001b[0m\u001b[0mtest_size\u001b[0m\u001b[0;34m=\u001b[0m\u001b[0mn_test\u001b[0m\u001b[0;34m,\u001b[0m \u001b[0mtrain_size\u001b[0m\u001b[0;34m=\u001b[0m\u001b[0mn_train\u001b[0m\u001b[0;34m,\u001b[0m \u001b[0mrandom_state\u001b[0m\u001b[0;34m=\u001b[0m\u001b[0mrandom_state\u001b[0m\u001b[0;34m)\u001b[0m\u001b[0;34m\u001b[0m\u001b[0;34m\u001b[0m\u001b[0m\n\u001b[1;32m   2582\u001b[0m \u001b[0;34m\u001b[0m\u001b[0m\n\u001b[0;32m-> 2583\u001b[0;31m         \u001b[0mtrain\u001b[0m\u001b[0;34m,\u001b[0m \u001b[0mtest\u001b[0m \u001b[0;34m=\u001b[0m \u001b[0mnext\u001b[0m\u001b[0;34m(\u001b[0m\u001b[0mcv\u001b[0m\u001b[0;34m.\u001b[0m\u001b[0msplit\u001b[0m\u001b[0;34m(\u001b[0m\u001b[0mX\u001b[0m\u001b[0;34m=\u001b[0m\u001b[0marrays\u001b[0m\u001b[0;34m[\u001b[0m\u001b[0;36m0\u001b[0m\u001b[0;34m]\u001b[0m\u001b[0;34m,\u001b[0m \u001b[0my\u001b[0m\u001b[0;34m=\u001b[0m\u001b[0mstratify\u001b[0m\u001b[0;34m)\u001b[0m\u001b[0;34m)\u001b[0m\u001b[0;34m\u001b[0m\u001b[0;34m\u001b[0m\u001b[0m\n\u001b[0m\u001b[1;32m   2584\u001b[0m \u001b[0;34m\u001b[0m\u001b[0m\n\u001b[1;32m   2585\u001b[0m     return list(\n",
            "\u001b[0;32m/usr/local/lib/python3.10/dist-packages/sklearn/model_selection/_split.py\u001b[0m in \u001b[0;36msplit\u001b[0;34m(self, X, y, groups)\u001b[0m\n\u001b[1;32m   1687\u001b[0m         \"\"\"\n\u001b[1;32m   1688\u001b[0m         \u001b[0mX\u001b[0m\u001b[0;34m,\u001b[0m \u001b[0my\u001b[0m\u001b[0;34m,\u001b[0m \u001b[0mgroups\u001b[0m \u001b[0;34m=\u001b[0m \u001b[0mindexable\u001b[0m\u001b[0;34m(\u001b[0m\u001b[0mX\u001b[0m\u001b[0;34m,\u001b[0m \u001b[0my\u001b[0m\u001b[0;34m,\u001b[0m \u001b[0mgroups\u001b[0m\u001b[0;34m)\u001b[0m\u001b[0;34m\u001b[0m\u001b[0;34m\u001b[0m\u001b[0m\n\u001b[0;32m-> 1689\u001b[0;31m         \u001b[0;32mfor\u001b[0m \u001b[0mtrain\u001b[0m\u001b[0;34m,\u001b[0m \u001b[0mtest\u001b[0m \u001b[0;32min\u001b[0m \u001b[0mself\u001b[0m\u001b[0;34m.\u001b[0m\u001b[0m_iter_indices\u001b[0m\u001b[0;34m(\u001b[0m\u001b[0mX\u001b[0m\u001b[0;34m,\u001b[0m \u001b[0my\u001b[0m\u001b[0;34m,\u001b[0m \u001b[0mgroups\u001b[0m\u001b[0;34m)\u001b[0m\u001b[0;34m:\u001b[0m\u001b[0;34m\u001b[0m\u001b[0;34m\u001b[0m\u001b[0m\n\u001b[0m\u001b[1;32m   1690\u001b[0m             \u001b[0;32myield\u001b[0m \u001b[0mtrain\u001b[0m\u001b[0;34m,\u001b[0m \u001b[0mtest\u001b[0m\u001b[0;34m\u001b[0m\u001b[0;34m\u001b[0m\u001b[0m\n\u001b[1;32m   1691\u001b[0m \u001b[0;34m\u001b[0m\u001b[0m\n",
            "\u001b[0;32m/usr/local/lib/python3.10/dist-packages/sklearn/model_selection/_split.py\u001b[0m in \u001b[0;36m_iter_indices\u001b[0;34m(self, X, y, groups)\u001b[0m\n\u001b[1;32m   2076\u001b[0m         \u001b[0mclass_counts\u001b[0m \u001b[0;34m=\u001b[0m \u001b[0mnp\u001b[0m\u001b[0;34m.\u001b[0m\u001b[0mbincount\u001b[0m\u001b[0;34m(\u001b[0m\u001b[0my_indices\u001b[0m\u001b[0;34m)\u001b[0m\u001b[0;34m\u001b[0m\u001b[0;34m\u001b[0m\u001b[0m\n\u001b[1;32m   2077\u001b[0m         \u001b[0;32mif\u001b[0m \u001b[0mnp\u001b[0m\u001b[0;34m.\u001b[0m\u001b[0mmin\u001b[0m\u001b[0;34m(\u001b[0m\u001b[0mclass_counts\u001b[0m\u001b[0;34m)\u001b[0m \u001b[0;34m<\u001b[0m \u001b[0;36m2\u001b[0m\u001b[0;34m:\u001b[0m\u001b[0;34m\u001b[0m\u001b[0;34m\u001b[0m\u001b[0m\n\u001b[0;32m-> 2078\u001b[0;31m             raise ValueError(\n\u001b[0m\u001b[1;32m   2079\u001b[0m                 \u001b[0;34m\"The least populated class in y has only 1\"\u001b[0m\u001b[0;34m\u001b[0m\u001b[0;34m\u001b[0m\u001b[0m\n\u001b[1;32m   2080\u001b[0m                 \u001b[0;34m\" member, which is too few. The minimum\"\u001b[0m\u001b[0;34m\u001b[0m\u001b[0;34m\u001b[0m\u001b[0m\n",
            "\u001b[0;31mValueError\u001b[0m: The least populated class in y has only 1 member, which is too few. The minimum number of groups for any class cannot be less than 2."
          ]
        }
      ],
      "source": [
        "# train test split\n",
        "X_train,X_test,y_train,y_test = train_test_split(X_vec,Y_vec,test_size=0.3,stratify =labels)"
      ]
    },
    {
      "cell_type": "code",
      "execution_count": null,
      "metadata": {
        "id": "YVt6q8ArWLZQ"
      },
      "outputs": [],
      "source": [
        "# fit model\n",
        "from sklearn.ensemble import RandomForestClassifier\n",
        "\n",
        "rbf = RandomForestClassifier(random_state = 1, max_depth = 35, n_estimators = 300, min_samples_split = 2, min_samples_leaf = 1)\n",
        "rbf.fit(X_train,y_train)"
      ]
    },
    {
      "cell_type": "code",
      "execution_count": null,
      "metadata": {
        "id": "MiQ2wLs0WLZR"
      },
      "outputs": [],
      "source": [
        "rbf.score(X_train,y_train)"
      ]
    },
    {
      "cell_type": "code",
      "execution_count": null,
      "metadata": {
        "id": "MQr0dR6oWLZS"
      },
      "outputs": [],
      "source": [
        "pred = rbf.predict(X_test)"
      ]
    },
    {
      "cell_type": "code",
      "execution_count": null,
      "metadata": {
        "id": "AJyz3WIcWLZS"
      },
      "outputs": [],
      "source": [
        "# Accuracy, Precision and Recall\n",
        "from sklearn.metrics import accuracy_score, precision_score, recall_score\n",
        "score1 = accuracy_score(y_test, pred)\n",
        "score2 = precision_score(y_test, pred,average='weighted')\n",
        "score3 = recall_score(y_test, pred,average='weighted')\n",
        "print(\"---- Scores ----\")\n",
        "print(\"Accuracy score is: {}%\".format(round(score1*100,2)))\n",
        "print(\"Precision score is: {}\".format(round(score2,2)))\n",
        "print(\"Recall score is: {}\".format(round(score3,2)))"
      ]
    },
    {
      "cell_type": "code",
      "execution_count": null,
      "metadata": {
        "id": "YGz4YF2gWLZT"
      },
      "outputs": [],
      "source": [
        "print(classification_report(y_test, pred))"
      ]
    },
    {
      "cell_type": "code",
      "execution_count": null,
      "metadata": {
        "id": "DdkKu0ceWLZU"
      },
      "outputs": [],
      "source": [
        "# Making the Confusion Matrix\n",
        "from sklearn.metrics import confusion_matrix\n",
        "lr_cm = confusion_matrix(y_test, pred)"
      ]
    },
    {
      "cell_type": "code",
      "execution_count": null,
      "metadata": {
        "id": "Hp2XiBvlWLZV"
      },
      "outputs": [],
      "source": [
        "\n",
        "def emotion_prediction(sample):\n",
        "    sample = re.sub(pattern='[^a-zA-Z]',repl=' ',string=sample)\n",
        "    sample = sample.lower()\n",
        "    sample_words = sample.split()\n",
        "    sample_words = [word for word in sample_words if not word in set(stopwords.words('english'))]\n",
        "    final_words = ' '.join(sample_words)\n",
        "\n",
        "    temp = word_vectorizer.transform([final_words])\n",
        "    return rbf.predict(temp)"
      ]
    },
    {
      "cell_type": "code",
      "execution_count": null,
      "metadata": {
        "id": "zCBTc4ehWLZW"
      },
      "outputs": [],
      "source": [
        "# Predicting values\n",
        "import numpy as np\n",
        "#row = randint(0 ,sample_test.shape[0]-1)\n",
        "#sample_news = sample_test.iloc[row][1]\n",
        "sample = \"I am very much happy by your behavior\"\n",
        "\n",
        "prediction = emotion_prediction(sample)\n",
        "#prediction = label_encoder.inverse_transform(prediction)\n",
        "prediction = np.array_str(prediction).strip(\"['']\")\n",
        "print('The emotion of the \"{}\" is : {}'.format(sample,prediction.upper()))"
      ]
    },
    {
      "cell_type": "code",
      "execution_count": null,
      "metadata": {
        "id": "MUuAQ4bOWLZX"
      },
      "outputs": [],
      "source": []
    },
    {
      "cell_type": "code",
      "execution_count": null,
      "metadata": {
        "id": "mGPTdpujWLZY"
      },
      "outputs": [],
      "source": [
        "# Save Model\n",
        "import pickle\n",
        "pickle.dump(rbf,open('rbf_model3.pkl','wb'))\n",
        "pickle.dump(word_vectorizer,open('cv_transform1.pkl','wb'))"
      ]
    },
    {
      "cell_type": "code",
      "execution_count": null,
      "metadata": {
        "id": "rr5dvs6SWLZY"
      },
      "outputs": [],
      "source": []
    }
  ],
  "metadata": {
    "colab": {
      "provenance": []
    },
    "kernelspec": {
      "display_name": "Python 3",
      "language": "python",
      "name": "python3"
    },
    "language_info": {
      "codemirror_mode": {
        "name": "ipython",
        "version": 3
      },
      "file_extension": ".py",
      "mimetype": "text/x-python",
      "name": "python",
      "nbconvert_exporter": "python",
      "pygments_lexer": "ipython3",
      "version": "3.7.6"
    }
  },
  "nbformat": 4,
  "nbformat_minor": 0
}